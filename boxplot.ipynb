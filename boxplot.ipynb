{
 "cells": [
  {
   "cell_type": "code",
   "execution_count": 1,
   "id": "f4e01ee7",
   "metadata": {},
   "outputs": [],
   "source": [
    "import numpy as np\n",
    "import pandas as pd\n",
    "\n",
    "import matplotlib as mpl\n",
    "import matplotlib.pyplot as plt"
   ]
  },
  {
   "cell_type": "markdown",
   "id": "3599b719",
   "metadata": {},
   "source": [
    "# Seattle temperature"
   ]
  },
  {
   "cell_type": "code",
   "execution_count": 3,
   "id": "6a43827c",
   "metadata": {},
   "outputs": [
    {
     "data": {
      "text/html": [
       "<div>\n",
       "<style scoped>\n",
       "    .dataframe tbody tr th:only-of-type {\n",
       "        vertical-align: middle;\n",
       "    }\n",
       "\n",
       "    .dataframe tbody tr th {\n",
       "        vertical-align: top;\n",
       "    }\n",
       "\n",
       "    .dataframe thead th {\n",
       "        text-align: right;\n",
       "    }\n",
       "</style>\n",
       "<table border=\"1\" class=\"dataframe\">\n",
       "  <thead>\n",
       "    <tr style=\"text-align: right;\">\n",
       "      <th></th>\n",
       "      <th>date</th>\n",
       "      <th>tmax</th>\n",
       "      <th>tmin</th>\n",
       "    </tr>\n",
       "  </thead>\n",
       "  <tbody>\n",
       "    <tr>\n",
       "      <th>0</th>\n",
       "      <td>1997-01-01</td>\n",
       "      <td>55</td>\n",
       "      <td>48</td>\n",
       "    </tr>\n",
       "    <tr>\n",
       "      <th>1</th>\n",
       "      <td>1997-01-02</td>\n",
       "      <td>51</td>\n",
       "      <td>42</td>\n",
       "    </tr>\n",
       "    <tr>\n",
       "      <th>2</th>\n",
       "      <td>1997-01-03</td>\n",
       "      <td>44</td>\n",
       "      <td>39</td>\n",
       "    </tr>\n",
       "    <tr>\n",
       "      <th>3</th>\n",
       "      <td>1997-01-04</td>\n",
       "      <td>40</td>\n",
       "      <td>37</td>\n",
       "    </tr>\n",
       "    <tr>\n",
       "      <th>4</th>\n",
       "      <td>1997-01-05</td>\n",
       "      <td>42</td>\n",
       "      <td>34</td>\n",
       "    </tr>\n",
       "  </tbody>\n",
       "</table>\n",
       "</div>"
      ],
      "text/plain": [
       "        date  tmax  tmin\n",
       "0 1997-01-01    55    48\n",
       "1 1997-01-02    51    42\n",
       "2 1997-01-03    44    39\n",
       "3 1997-01-04    40    37\n",
       "4 1997-01-05    42    34"
      ]
     },
     "execution_count": 3,
     "metadata": {},
     "output_type": "execute_result"
    }
   ],
   "source": [
    "data= pd.read_csv('data/seattleWeather_1948-2017.csv')\n",
    "\n",
    "data.columns= [x.lower() for x in data.columns]\n",
    "\n",
    "# parse time\n",
    "data['date']= pd.to_datetime(data['date'], format='%Y-%m-%d')\n",
    "\n",
    "start_date= '1997-01-01'\n",
    "end_date= '2016-12-31'\n",
    "\n",
    "data= data.loc[(data['date']>= start_date) & (data['date']<= end_date)].reset_index(drop=True)\n",
    "\n",
    "data= data.drop(['rain','prcp'], axis= 1)\n",
    "\n",
    "data.head()"
   ]
  },
  {
   "cell_type": "code",
   "execution_count": 43,
   "id": "8579f763",
   "metadata": {},
   "outputs": [],
   "source": [
    "label_years= pd.date_range(start_date, end_date, freq='Y').strftime(\"%Y\").tolist()\n",
    "label_years= np.reshape(label_years, -1)"
   ]
  },
  {
   "cell_type": "code",
   "execution_count": 45,
   "id": "d12c73ed",
   "metadata": {},
   "outputs": [],
   "source": [
    "year_slices_max= [np.asarray(data.loc[(data['date']>= y+'-01-01') & \n",
    "                                      (data['date']<= y+'-12-31')]['tmax']) for y in label_years]\n",
    "\n",
    "year_slices_min= [np.asarray(data.loc[(data['date']>= y+'-01-01') & \n",
    "                                      (data['date']<= y+'-12-31')]['tmin']) for y in label_years]"
   ]
  },
  {
   "cell_type": "code",
   "execution_count": 95,
   "id": "98e347b8",
   "metadata": {},
   "outputs": [],
   "source": [
    "import matplotlib.colors as mcolors\n",
    "\n",
    "PALETTE= list((mcolors.TABLEAU_COLORS).values())"
   ]
  },
  {
   "cell_type": "code",
   "execution_count": 116,
   "id": "7abdfe58",
   "metadata": {},
   "outputs": [
    {
     "data": {
      "image/png": "[encoded data removed]",
      "text/plain": [
       "<Figure size 792x504 with 1 Axes>"
      ]
     },
     "metadata": {
      "needs_background": "light"
     },
     "output_type": "display_data"
    }
   ],
   "source": [
    "fig, ax= plt.subplots(figsize= (11,7))\n",
    "\n",
    "bplot= ax.boxplot(year_slices_min, patch_artist=True, notch=True, showfliers= False)\n",
    "\n",
    "# Remove spines\n",
    "#ax.spines[\"left\"].set_color(\"none\")\n",
    "#ax.spines[\"bottom\"].set_color(\"none\")\n",
    "#ax.spines[\"right\"].set_color(\"none\")\n",
    "#ax.spines[\"top\"].set_color(\"none\")\n",
    "\n",
    "# Add a horizontal grid to the plot, but make it very light in color\n",
    "# so we can use it for reading data values but not be distracting\n",
    "ax.yaxis.grid(True, linestyle='-', which='major', color='lightgrey', alpha=0.75)\n",
    "\n",
    "plt.yticks(fontsize=12)\n",
    "ax.set_ylabel('Temperature scale', size=14)\n",
    "\n",
    "plt.xticks(fontsize=12)\n",
    "ax.set_xticklabels(label_years)\n",
    "\n",
    "# Setting the number of ticks \n",
    "plt.locator_params(axis='x', nbins=10) \n",
    "\n",
    "\n",
    "# changing color and linewidth of whiskers\n",
    "for whisker in bplot['whiskers']:\n",
    "    whisker.set(color='black', linewidth= 1.5)\n",
    "    \n",
    "# changing color and linewidth of caps\n",
    "for cap in bplot['caps']:\n",
    "    cap.set(color='black', linewidth= 1.5)\n",
    "\n",
    "# changing color and linewidth of medians\n",
    "for median in bplot['medians']:\n",
    "    median.set(color='red', linewidth= 3)\n",
    "\n",
    "# changing style of fliers\n",
    "for flier in bplot['fliers']:\n",
    "    flier.set(marker='D', color='black', alpha= 0.5)\n",
    "\n",
    "\n",
    "box_colors= ['darkkhaki', 'royalblue']\n",
    "\n",
    "for idx, box in enumerate(bplot['boxes']):\n",
    "    box.set(color='black', linewidth= 2)\n",
    "    box.set_facecolor(box_colors[idx % 2])\n",
    "\n",
    "# fill with multiple colors\n",
    "#for patch, color in zip(bplot['boxes'], colors):\n",
    "#    patch.set_facecolor(color)\n",
    "\n",
    "fig.suptitle('Seattle temperature evolution by year (1997-2016)', fontsize=14, x=0.5, y=0.93)\n",
    "\n",
    "plt.show()\n",
    "\n",
    "#plt.savefig('boxplot.pdf', pad_inches=0.01, bbox_inches=\"tight\")"
   ]
  },
  {
   "cell_type": "code",
   "execution_count": null,
   "id": "ba296bc8",
   "metadata": {},
   "outputs": [],
   "source": []
  }
 ],
 "metadata": {
  "kernelspec": {
   "display_name": "Python 3",
   "language": "python",
   "name": "python3"
  },
  "language_info": {
   "codemirror_mode": {
    "name": "ipython",
    "version": 3
   },
   "file_extension": ".py",
   "mimetype": "text/x-python",
   "name": "python",
   "nbconvert_exporter": "python",
   "pygments_lexer": "ipython3",
   "version": "3.8.8"
  }
 },
 "nbformat": 4,
 "nbformat_minor": 5
}
