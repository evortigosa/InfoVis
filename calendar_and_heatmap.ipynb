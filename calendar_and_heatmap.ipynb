{
 "cells": [
  {
   "cell_type": "code",
   "execution_count": 104,
   "id": "2f37ed54",
   "metadata": {},
   "outputs": [],
   "source": [
    "import numpy as np\n",
    "import pandas as pd\n",
    "\n",
    "import matplotlib as mpl\n",
    "import matplotlib.pyplot as plt\n",
    "import matplotlib.colors as mc\n",
    "\n",
    "import seaborn as sns"
   ]
  },
  {
   "cell_type": "code",
   "execution_count": null,
   "id": "25f61d46",
   "metadata": {},
   "outputs": [],
   "source": [
    "import sys\n",
    "\n",
    "!{sys.executable} -m pip install calplot\n",
    "!{sys.executable} -m pip install calmap\n",
    "\n",
    "import calplot\n",
    "import calmap"
   ]
  },
  {
   "cell_type": "markdown",
   "id": "16281462",
   "metadata": {},
   "source": [
    "# Seattle temperature"
   ]
  },
  {
   "cell_type": "code",
   "execution_count": 259,
   "id": "1414fe47",
   "metadata": {},
   "outputs": [
    {
     "data": {
      "text/html": [
       "<div>\n",
       "<style scoped>\n",
       "    .dataframe tbody tr th:only-of-type {\n",
       "        vertical-align: middle;\n",
       "    }\n",
       "\n",
       "    .dataframe tbody tr th {\n",
       "        vertical-align: top;\n",
       "    }\n",
       "\n",
       "    .dataframe thead th {\n",
       "        text-align: right;\n",
       "    }\n",
       "</style>\n",
       "<table border=\"1\" class=\"dataframe\">\n",
       "  <thead>\n",
       "    <tr style=\"text-align: right;\">\n",
       "      <th></th>\n",
       "      <th>date</th>\n",
       "      <th>prcp</th>\n",
       "      <th>tmax</th>\n",
       "      <th>tmin</th>\n",
       "      <th>rain</th>\n",
       "    </tr>\n",
       "  </thead>\n",
       "  <tbody>\n",
       "    <tr>\n",
       "      <th>0</th>\n",
       "      <td>1948-01-01</td>\n",
       "      <td>0.47</td>\n",
       "      <td>51</td>\n",
       "      <td>42</td>\n",
       "      <td>True</td>\n",
       "    </tr>\n",
       "    <tr>\n",
       "      <th>1</th>\n",
       "      <td>1948-01-02</td>\n",
       "      <td>0.59</td>\n",
       "      <td>45</td>\n",
       "      <td>36</td>\n",
       "      <td>True</td>\n",
       "    </tr>\n",
       "    <tr>\n",
       "      <th>2</th>\n",
       "      <td>1948-01-03</td>\n",
       "      <td>0.42</td>\n",
       "      <td>45</td>\n",
       "      <td>35</td>\n",
       "      <td>True</td>\n",
       "    </tr>\n",
       "    <tr>\n",
       "      <th>3</th>\n",
       "      <td>1948-01-04</td>\n",
       "      <td>0.31</td>\n",
       "      <td>45</td>\n",
       "      <td>34</td>\n",
       "      <td>True</td>\n",
       "    </tr>\n",
       "    <tr>\n",
       "      <th>4</th>\n",
       "      <td>1948-01-05</td>\n",
       "      <td>0.17</td>\n",
       "      <td>45</td>\n",
       "      <td>32</td>\n",
       "      <td>True</td>\n",
       "    </tr>\n",
       "  </tbody>\n",
       "</table>\n",
       "</div>"
      ],
      "text/plain": [
       "         date  prcp  tmax  tmin  rain\n",
       "0  1948-01-01  0.47    51    42  True\n",
       "1  1948-01-02  0.59    45    36  True\n",
       "2  1948-01-03  0.42    45    35  True\n",
       "3  1948-01-04  0.31    45    34  True\n",
       "4  1948-01-05  0.17    45    32  True"
      ]
     },
     "execution_count": 259,
     "metadata": {},
     "output_type": "execute_result"
    }
   ],
   "source": [
    "data= pd.read_csv('data/seattleWeather_1948-2017.csv')\n",
    "\n",
    "data.columns= [x.lower() for x in data.columns]\n",
    "data.head()"
   ]
  },
  {
   "cell_type": "code",
   "execution_count": 260,
   "id": "d78a60b1",
   "metadata": {},
   "outputs": [
    {
     "data": {
      "text/html": [
       "<div>\n",
       "<style scoped>\n",
       "    .dataframe tbody tr th:only-of-type {\n",
       "        vertical-align: middle;\n",
       "    }\n",
       "\n",
       "    .dataframe tbody tr th {\n",
       "        vertical-align: top;\n",
       "    }\n",
       "\n",
       "    .dataframe thead th {\n",
       "        text-align: right;\n",
       "    }\n",
       "</style>\n",
       "<table border=\"1\" class=\"dataframe\">\n",
       "  <thead>\n",
       "    <tr style=\"text-align: right;\">\n",
       "      <th></th>\n",
       "      <th>prcp</th>\n",
       "      <th>tmax</th>\n",
       "      <th>tmin</th>\n",
       "      <th>rain</th>\n",
       "    </tr>\n",
       "    <tr>\n",
       "      <th>date</th>\n",
       "      <th></th>\n",
       "      <th></th>\n",
       "      <th></th>\n",
       "      <th></th>\n",
       "    </tr>\n",
       "  </thead>\n",
       "  <tbody>\n",
       "    <tr>\n",
       "      <th>2016-01-01</th>\n",
       "      <td>0.00</td>\n",
       "      <td>46</td>\n",
       "      <td>28</td>\n",
       "      <td>False</td>\n",
       "    </tr>\n",
       "    <tr>\n",
       "      <th>2016-01-02</th>\n",
       "      <td>0.00</td>\n",
       "      <td>42</td>\n",
       "      <td>25</td>\n",
       "      <td>False</td>\n",
       "    </tr>\n",
       "    <tr>\n",
       "      <th>2016-01-03</th>\n",
       "      <td>0.02</td>\n",
       "      <td>40</td>\n",
       "      <td>31</td>\n",
       "      <td>True</td>\n",
       "    </tr>\n",
       "    <tr>\n",
       "      <th>2016-01-04</th>\n",
       "      <td>0.15</td>\n",
       "      <td>38</td>\n",
       "      <td>35</td>\n",
       "      <td>True</td>\n",
       "    </tr>\n",
       "    <tr>\n",
       "      <th>2016-01-05</th>\n",
       "      <td>0.11</td>\n",
       "      <td>46</td>\n",
       "      <td>36</td>\n",
       "      <td>True</td>\n",
       "    </tr>\n",
       "  </tbody>\n",
       "</table>\n",
       "</div>"
      ],
      "text/plain": [
       "            prcp  tmax  tmin   rain\n",
       "date                               \n",
       "2016-01-01  0.00    46    28  False\n",
       "2016-01-02  0.00    42    25  False\n",
       "2016-01-03  0.02    40    31   True\n",
       "2016-01-04  0.15    38    35   True\n",
       "2016-01-05  0.11    46    36   True"
      ]
     },
     "execution_count": 260,
     "metadata": {},
     "output_type": "execute_result"
    }
   ],
   "source": [
    "# parse time\n",
    "data['date']= pd.to_datetime(data['date'], format='%Y-%m-%d')\n",
    "\n",
    "start_date= '2016-01-01'\n",
    "end_date= '2016-12-31'\n",
    "\n",
    "data= data.loc[(data['date']>= start_date) & (data['date']<= end_date)].reset_index(drop=True)\n",
    "data= data.set_index('date')\n",
    "\n",
    "data.head()"
   ]
  },
  {
   "cell_type": "markdown",
   "id": "1a438bd0",
   "metadata": {},
   "source": [
    "# Calendar"
   ]
  },
  {
   "cell_type": "code",
   "execution_count": 262,
   "id": "f921ad2d",
   "metadata": {},
   "outputs": [
    {
     "name": "stderr",
     "output_type": "stream",
     "text": [
      "findfont: Font family 'Helvetica' not found.\n",
      "findfont: Font family 'Helvetica' not found.\n"
     ]
    },
    {
     "data": {
      "text/plain": [
       "Text(0.43, 1.08, 'Seattle minimum temperatures by month')"
      ]
     },
     "execution_count": 262,
     "metadata": {},
     "output_type": "execute_result"
    },
    {
     "name": "stderr",
     "output_type": "stream",
     "text": [
      "findfont: Font family 'Helvetica' not found.\n",
      "findfont: Font family 'Helvetica' not found.\n",
      "findfont: Font family 'Helvetica' not found.\n",
      "findfont: Font family 'Helvetica' not found.\n"
     ]
    },
    {
     "data": {
      "image/png": "[encoded data removed]",
      "text/plain": [
       "<Figure size 1080x144 with 2 Axes>"
      ]
     },
     "metadata": {
      "needs_background": "light"
     },
     "output_type": "display_data"
    }
   ],
   "source": [
    "fig, ax= calplot.calplot(data['tmin'], \n",
    "                cmap= 'coolwarm', \n",
    "                linewidth=2,\n",
    "                linecolor =\"white\" , fillcolor= \"white\", \n",
    "                figsize = (15, 2),\n",
    "                colorbar=True);\n",
    "\n",
    "fig.suptitle('Seattle minimum temperatures by month', fontsize=16, x=0.43, y=1.08)\n",
    "\n",
    "#plt.savefig('calendar.pdf', pad_inches=0.01, bbox_inches=\"tight\")"
   ]
  },
  {
   "cell_type": "code",
   "execution_count": null,
   "id": "9c5cfb86",
   "metadata": {},
   "outputs": [],
   "source": []
  },
  {
   "cell_type": "markdown",
   "id": "2b0e2b4f",
   "metadata": {},
   "source": [
    "# Heatmap"
   ]
  },
  {
   "cell_type": "code",
   "execution_count": 263,
   "id": "b214439a",
   "metadata": {},
   "outputs": [
    {
     "data": {
      "text/html": [
       "<div>\n",
       "<style scoped>\n",
       "    .dataframe tbody tr th:only-of-type {\n",
       "        vertical-align: middle;\n",
       "    }\n",
       "\n",
       "    .dataframe tbody tr th {\n",
       "        vertical-align: top;\n",
       "    }\n",
       "\n",
       "    .dataframe thead th {\n",
       "        text-align: right;\n",
       "    }\n",
       "</style>\n",
       "<table border=\"1\" class=\"dataframe\">\n",
       "  <thead>\n",
       "    <tr style=\"text-align: right;\">\n",
       "      <th></th>\n",
       "      <th>date</th>\n",
       "      <th>tmax</th>\n",
       "      <th>tmin</th>\n",
       "    </tr>\n",
       "  </thead>\n",
       "  <tbody>\n",
       "    <tr>\n",
       "      <th>0</th>\n",
       "      <td>1997-01-01</td>\n",
       "      <td>55</td>\n",
       "      <td>48</td>\n",
       "    </tr>\n",
       "    <tr>\n",
       "      <th>1</th>\n",
       "      <td>1997-01-02</td>\n",
       "      <td>51</td>\n",
       "      <td>42</td>\n",
       "    </tr>\n",
       "    <tr>\n",
       "      <th>2</th>\n",
       "      <td>1997-01-03</td>\n",
       "      <td>44</td>\n",
       "      <td>39</td>\n",
       "    </tr>\n",
       "    <tr>\n",
       "      <th>3</th>\n",
       "      <td>1997-01-04</td>\n",
       "      <td>40</td>\n",
       "      <td>37</td>\n",
       "    </tr>\n",
       "    <tr>\n",
       "      <th>4</th>\n",
       "      <td>1997-01-05</td>\n",
       "      <td>42</td>\n",
       "      <td>34</td>\n",
       "    </tr>\n",
       "  </tbody>\n",
       "</table>\n",
       "</div>"
      ],
      "text/plain": [
       "        date  tmax  tmin\n",
       "0 1997-01-01    55    48\n",
       "1 1997-01-02    51    42\n",
       "2 1997-01-03    44    39\n",
       "3 1997-01-04    40    37\n",
       "4 1997-01-05    42    34"
      ]
     },
     "execution_count": 263,
     "metadata": {},
     "output_type": "execute_result"
    }
   ],
   "source": [
    "data= pd.read_csv('data/seattleWeather_1948-2017.csv')\n",
    "\n",
    "data.columns= [x.lower() for x in data.columns]\n",
    "\n",
    "# parse time\n",
    "data['date']= pd.to_datetime(data['date'], format='%Y-%m-%d')\n",
    "\n",
    "start_date= '1997-01-01'\n",
    "end_date= '2016-12-31'\n",
    "\n",
    "data= data.loc[(data['date']>= start_date) & (data['date']<= end_date)].reset_index(drop=True)\n",
    "\n",
    "data= data.drop(['rain','prcp'], axis= 1)\n",
    "\n",
    "data.head()"
   ]
  },
  {
   "cell_type": "code",
   "execution_count": 264,
   "id": "607643e4",
   "metadata": {},
   "outputs": [],
   "source": [
    "months= pd.date_range('2024-01-01', '2024-12-31', freq='MS').strftime(\"%b\").tolist()"
   ]
  },
  {
   "cell_type": "code",
   "execution_count": 265,
   "id": "c21b6722",
   "metadata": {},
   "outputs": [
    {
     "data": {
      "text/html": [
       "<div>\n",
       "<style scoped>\n",
       "    .dataframe tbody tr th:only-of-type {\n",
       "        vertical-align: middle;\n",
       "    }\n",
       "\n",
       "    .dataframe tbody tr th {\n",
       "        vertical-align: top;\n",
       "    }\n",
       "\n",
       "    .dataframe thead th {\n",
       "        text-align: right;\n",
       "    }\n",
       "</style>\n",
       "<table border=\"1\" class=\"dataframe\">\n",
       "  <thead>\n",
       "    <tr style=\"text-align: right;\">\n",
       "      <th></th>\n",
       "      <th>date</th>\n",
       "      <th>tmax</th>\n",
       "      <th>tmin</th>\n",
       "    </tr>\n",
       "  </thead>\n",
       "  <tbody>\n",
       "    <tr>\n",
       "      <th>0</th>\n",
       "      <td>1997-01</td>\n",
       "      <td>45.677419</td>\n",
       "      <td>36.451613</td>\n",
       "    </tr>\n",
       "    <tr>\n",
       "      <th>1</th>\n",
       "      <td>1997-02</td>\n",
       "      <td>48.392857</td>\n",
       "      <td>35.392857</td>\n",
       "    </tr>\n",
       "    <tr>\n",
       "      <th>2</th>\n",
       "      <td>1997-03</td>\n",
       "      <td>51.064516</td>\n",
       "      <td>38.419355</td>\n",
       "    </tr>\n",
       "    <tr>\n",
       "      <th>3</th>\n",
       "      <td>1997-04</td>\n",
       "      <td>56.900000</td>\n",
       "      <td>41.400000</td>\n",
       "    </tr>\n",
       "    <tr>\n",
       "      <th>4</th>\n",
       "      <td>1997-05</td>\n",
       "      <td>67.032258</td>\n",
       "      <td>49.290323</td>\n",
       "    </tr>\n",
       "  </tbody>\n",
       "</table>\n",
       "</div>"
      ],
      "text/plain": [
       "      date       tmax       tmin\n",
       "0  1997-01  45.677419  36.451613\n",
       "1  1997-02  48.392857  35.392857\n",
       "2  1997-03  51.064516  38.419355\n",
       "3  1997-04  56.900000  41.400000\n",
       "4  1997-05  67.032258  49.290323"
      ]
     },
     "execution_count": 265,
     "metadata": {},
     "output_type": "execute_result"
    }
   ],
   "source": [
    "# Groupa data by month and take mean values\n",
    "\n",
    "per= data['date'].dt.to_period(\"M\")\n",
    "\n",
    "g_data= data.groupby(per).mean(['tmax', 'tmin'])\n",
    "g_data= g_data.reset_index(drop=False)\n",
    "g_data.head()"
   ]
  },
  {
   "cell_type": "code",
   "execution_count": 266,
   "id": "90c92dbc",
   "metadata": {},
   "outputs": [],
   "source": [
    "# Extract month, year and temperature\n",
    "month= g_data['date'].dt.month\n",
    "year = g_data['date'].dt.year\n",
    "mtemp= g_data['tmin']"
   ]
  },
  {
   "cell_type": "code",
   "execution_count": 267,
   "id": "42e9aece",
   "metadata": {},
   "outputs": [],
   "source": [
    "# Re-arrange temperature values\n",
    "temp= mtemp.values.reshape(12, len(year.unique()), order=\"F\")\n",
    "\n",
    "xgrid= np.arange((year.max()-year.min()) + 1) + 1\n",
    "ygrid= np.arange(12)"
   ]
  },
  {
   "cell_type": "code",
   "execution_count": 284,
   "id": "11427e67",
   "metadata": {},
   "outputs": [
    {
     "data": {
      "image/png": "[encoded data removed]",
      "text/plain": [
       "<Figure size 864x432 with 2 Axes>"
      ]
     },
     "metadata": {
      "needs_background": "light"
     },
     "output_type": "display_data"
    }
   ],
   "source": [
    "import matplotlib.dates as mdates\n",
    "import math\n",
    "\n",
    "fig, ax= plt.subplots(figsize= (12,6))\n",
    "\n",
    "x_end= 2\n",
    "xticks= np.arange(x_end)\n",
    "\n",
    "sns.heatmap(temp, cmap= 'coolwarm', xticklabels=xticks)\n",
    "\n",
    "plt.yticks(fontsize=12)\n",
    "ax.set_yticklabels(months)\n",
    "plt.setp(ax.get_yticklabels(), rotation=0)\n",
    "\n",
    "plt.xticks(fontsize=12)\n",
    "plt.xticks([0,4,9,14,19], [1997,2001,2006,2011,2016])\n",
    "plt.xticks(ax.get_xticks(), rotation=0, ha='left', rotation_mode='anchor')\n",
    "\n",
    "cbar= ax.collections[0].colorbar\n",
    "cbar.set_label('Temperature scale', size=13, labelpad=10)\n",
    "\n",
    "fig.suptitle('Seattle minimum temperatures by month (1997-2006)', fontsize=14, x=0.43, y=0.93)\n",
    "\n",
    "plt.show()\n",
    "\n",
    "#plt.savefig('heatmap.pdf', pad_inches=0.01, bbox_inches=\"tight\")"
   ]
  },
  {
   "cell_type": "code",
   "execution_count": null,
   "id": "2205a16e",
   "metadata": {},
   "outputs": [],
   "source": []
  }
 ],
 "metadata": {
  "kernelspec": {
   "display_name": "Python 3",
   "language": "python",
   "name": "python3"
  },
  "language_info": {
   "codemirror_mode": {
    "name": "ipython",
    "version": 3
   },
   "file_extension": ".py",
   "mimetype": "text/x-python",
   "name": "python",
   "nbconvert_exporter": "python",
   "pygments_lexer": "ipython3",
   "version": "3.8.8"
  }
 },
 "nbformat": 4,
 "nbformat_minor": 5
}
