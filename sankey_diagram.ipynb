{
 "cells": [
  {
   "cell_type": "code",
   "execution_count": 1,
   "id": "f5e9a57e",
   "metadata": {},
   "outputs": [],
   "source": [
    "import numpy as np\n",
    "import pandas as pd\n",
    "\n",
    "import matplotlib.pyplot as plt\n",
    "\n",
    "import plotly.offline as offline\n",
    "import plotly.graph_objects as go"
   ]
  },
  {
   "cell_type": "markdown",
   "id": "28a8ac06",
   "metadata": {},
   "source": [
    "# Fifa World Cup 2022 dataset"
   ]
  },
  {
   "cell_type": "code",
   "execution_count": 2,
   "id": "123419ed",
   "metadata": {},
   "outputs": [
    {
     "data": {
      "text/html": [
       "<div>\n",
       "<style scoped>\n",
       "    .dataframe tbody tr th:only-of-type {\n",
       "        vertical-align: middle;\n",
       "    }\n",
       "\n",
       "    .dataframe tbody tr th {\n",
       "        vertical-align: top;\n",
       "    }\n",
       "\n",
       "    .dataframe thead th {\n",
       "        text-align: right;\n",
       "    }\n",
       "</style>\n",
       "<table border=\"1\" class=\"dataframe\">\n",
       "  <thead>\n",
       "    <tr style=\"text-align: right;\">\n",
       "      <th></th>\n",
       "      <th>team1</th>\n",
       "      <th>team2</th>\n",
       "      <th>number of goals team1</th>\n",
       "      <th>number of goals team2</th>\n",
       "      <th>date</th>\n",
       "      <th>hour</th>\n",
       "      <th>category</th>\n",
       "    </tr>\n",
       "  </thead>\n",
       "  <tbody>\n",
       "    <tr>\n",
       "      <th>0</th>\n",
       "      <td>Qatar</td>\n",
       "      <td>Ecuador</td>\n",
       "      <td>0</td>\n",
       "      <td>2</td>\n",
       "      <td>2022-11-20</td>\n",
       "      <td>17 : 00</td>\n",
       "      <td>Group A</td>\n",
       "    </tr>\n",
       "    <tr>\n",
       "      <th>1</th>\n",
       "      <td>England</td>\n",
       "      <td>Iran</td>\n",
       "      <td>6</td>\n",
       "      <td>2</td>\n",
       "      <td>2022-11-21</td>\n",
       "      <td>14 : 00</td>\n",
       "      <td>Group B</td>\n",
       "    </tr>\n",
       "    <tr>\n",
       "      <th>2</th>\n",
       "      <td>Senegal</td>\n",
       "      <td>Netherlands</td>\n",
       "      <td>0</td>\n",
       "      <td>2</td>\n",
       "      <td>2022-11-21</td>\n",
       "      <td>17 : 00</td>\n",
       "      <td>Group A</td>\n",
       "    </tr>\n",
       "    <tr>\n",
       "      <th>3</th>\n",
       "      <td>United States</td>\n",
       "      <td>Wales</td>\n",
       "      <td>1</td>\n",
       "      <td>1</td>\n",
       "      <td>2022-11-21</td>\n",
       "      <td>20 : 00</td>\n",
       "      <td>Group B</td>\n",
       "    </tr>\n",
       "    <tr>\n",
       "      <th>4</th>\n",
       "      <td>Argentina</td>\n",
       "      <td>Saudi Arabia</td>\n",
       "      <td>1</td>\n",
       "      <td>2</td>\n",
       "      <td>2022-11-22</td>\n",
       "      <td>11 : 00</td>\n",
       "      <td>Group C</td>\n",
       "    </tr>\n",
       "  </tbody>\n",
       "</table>\n",
       "</div>"
      ],
      "text/plain": [
       "           team1         team2  number of goals team1  number of goals team2  \\\n",
       "0          Qatar       Ecuador                      0                      2   \n",
       "1        England          Iran                      6                      2   \n",
       "2        Senegal   Netherlands                      0                      2   \n",
       "3  United States         Wales                      1                      1   \n",
       "4      Argentina  Saudi Arabia                      1                      2   \n",
       "\n",
       "        date     hour category  \n",
       "0 2022-11-20  17 : 00  Group A  \n",
       "1 2022-11-21  14 : 00  Group B  \n",
       "2 2022-11-21  17 : 00  Group A  \n",
       "3 2022-11-21  20 : 00  Group B  \n",
       "4 2022-11-22  11 : 00  Group C  "
      ]
     },
     "execution_count": 2,
     "metadata": {},
     "output_type": "execute_result"
    }
   ],
   "source": [
    "data= pd.read_csv('data/fifa_world_cup_matches.csv')\n",
    "\n",
    "data.columns= [x.lower() for x in data.columns]\n",
    "data= data[['team1','team2','number of goals team1','number of goals team2','date','hour','category']]\n",
    "\n",
    "data['team1']= data['team1'].str.title()\n",
    "data['team2']= data['team2'].str.title()\n",
    "\n",
    "data['date']= pd.to_datetime(data['date'], format='%d %b %Y')\n",
    "\n",
    "data.head()"
   ]
  },
  {
   "cell_type": "code",
   "execution_count": 3,
   "id": "2070983d",
   "metadata": {},
   "outputs": [
    {
     "data": {
      "text/plain": [
       "array(['Qatar', 'England', 'Senegal', 'United States', 'Argentina',\n",
       "       'Denmark', 'Mexico', 'France', 'Morocco', 'Germany', 'Spain',\n",
       "       'Belgium', 'Switzerland', 'Uruguay', 'Portugal', 'Brazil', 'Wales',\n",
       "       'Netherlands', 'Tunisia', 'Poland', 'Japan', 'Croatia', 'Cameroon',\n",
       "       'Korea Republic', 'Ecuador', 'Iran', 'Australia', 'Saudi Arabia',\n",
       "       'Canada', 'Costa Rica', 'Ghana', 'Serbia'], dtype=object)"
      ]
     },
     "execution_count": 3,
     "metadata": {},
     "output_type": "execute_result"
    }
   ],
   "source": [
    "countries= data['team1'].unique()\n",
    "countries"
   ]
  },
  {
   "cell_type": "code",
   "execution_count": 4,
   "id": "109a88c8",
   "metadata": {},
   "outputs": [
    {
     "data": {
      "text/plain": [
       "array(['Group A', 'Group B', 'Group C', 'Group D', 'Group F', 'Group E',\n",
       "       'Group G', 'Group H', 'Round of 16', 'Quarter-final', 'Semi-final',\n",
       "       'Play-off for third place', 'Final'], dtype=object)"
      ]
     },
     "execution_count": 4,
     "metadata": {},
     "output_type": "execute_result"
    }
   ],
   "source": [
    "categories= data['category'].unique()\n",
    "categories"
   ]
  },
  {
   "cell_type": "code",
   "execution_count": 5,
   "id": "c2e751d7",
   "metadata": {},
   "outputs": [],
   "source": [
    "labels= countries.copy()\n",
    "\n",
    "for i in range(len(categories)):\n",
    "    \n",
    "    if (categories[i]== 'Round of 16'):\n",
    "        for j in range(8):\n",
    "            labels= np.append(labels,'Round of 16'+'-'+str(j+1))\n",
    "    elif (categories[i]== 'Quarter-final'):\n",
    "        for j in range(4):\n",
    "            labels= np.append(labels,'Quarter-final'+'-'+str(j+1))\n",
    "    elif (categories[i]== 'Semi-final'):\n",
    "        for j in range(2):\n",
    "            labels= np.append(labels,'Semi-final'+'-'+str(j+1))\n",
    "    else:\n",
    "        labels= np.append(labels,categories[i])\n",
    "    \n",
    "labels= np.append(labels,'Argentina')"
   ]
  },
  {
   "cell_type": "code",
   "execution_count": 6,
   "id": "9858b5e0",
   "metadata": {},
   "outputs": [],
   "source": [
    "# 'Qatar', 'England', 'Senegal', 'United States', 'Argentina',         00-04\n",
    "# 'Denmark', 'Mexico', 'France', 'Morocco', 'Germany', 'Spain',        05-10\n",
    "# 'Belgium', 'Switzerland', 'Uruguay', 'Portugal', 'Brazil', 'Wales',  11-16\n",
    "# 'Netherlands', 'Tunisia', 'Poland', 'Japan', 'Croatia', 'Cameroon',  17-22\n",
    "# 'Korea Republic', 'Ecuador', 'Iran', 'Australia', 'Saudi Arabia',    23-27\n",
    "# 'Canada', 'Costa Rica', 'Ghana', 'Serbia', 'Group A', 'Group B',     28-33\n",
    "# 'Group C', 'Group D', 'Group F', 'Group E', 'Group G', 'Group H',    34-39\n",
    "# 'Round of 16-1', 'Round of 16-2', 'Round of 16-3', 'Round of 16-4',  40-43\n",
    "# 'Round of 16-5', 'Round of 16-6', 'Round of 16-7', 'Round of 16-8',  44-47\n",
    "# 'Quarter-final-1', 'Quarter-final-2', 'Quarter-final-3',             48-50\n",
    "# 'Quarter-final-4', 'Semi-final-1', 'Semi-final-2',                   51-53\n",
    "# 'Play-off for third place','Final'                                   54-55"
   ]
  },
  {
   "cell_type": "code",
   "execution_count": 7,
   "id": "d3d1b99f",
   "metadata": {},
   "outputs": [],
   "source": [
    "from matplotlib.colors import to_hex\n",
    "\n",
    "colorsb= list(map(to_hex, plt.get_cmap('tab20b').colors))\n",
    "colorsc= list(map(to_hex, plt.get_cmap('tab20c').colors))\n",
    "\n",
    "cm= np.concatenate((colorsb,colorsc))"
   ]
  },
  {
   "cell_type": "code",
   "execution_count": 8,
   "id": "59e7c873",
   "metadata": {},
   "outputs": [
    {
     "data": {
      "text/html": [
       "        <script type=\"text/javascript\">\n",
       "        window.PlotlyConfig = {MathJaxConfig: 'local'};\n",
       "        if (window.MathJax) {MathJax.Hub.Config({SVG: {font: \"STIX-Web\"}});}\n",
       "        if (typeof require !== 'undefined') {\n",
       "        require.undef(\"plotly\");\n",
       "        requirejs.config({\n",
       "            paths: {\n",
       "                'plotly': ['https://cdn.plot.ly/plotly-2.4.2.min']\n",
       "            }\n",
       "        });\n",
       "        require(['plotly'], function(Plotly) {\n",
       "            window._Plotly = Plotly;\n",
       "        });\n",
       "        }\n",
       "        </script>\n",
       "        "
      ]
     },
     "metadata": {},
     "output_type": "display_data"
    },
    {
     "data": {
      "application/vnd.plotly.v1+json": {
       "config": {
        "plotlyServerURL": "https://plot.ly"
       },
       "data": [
        {
         "link": {
          "color": [
           "#9c9ede",
           "#6b6ecf",
           "#5254a3",
           "#393b79",
           "#637939",
           "#8ca252",
           "#b5cf6b",
           "#cedb9c",
           "#8c6d31",
           "#e7ba52",
           "#bd9e39",
           "#e7cb94",
           "#843c39",
           "#ad494a",
           "#d6616b",
           "#e7969c",
           "#7b4173",
           "#ce6dbd",
           "#a55194",
           "#de9ed6",
           "#3182bd",
           "#6baed6",
           "#9ecae1",
           "#c6dbef",
           "#fd8d3c",
           "#e6550d",
           "#fdae6b",
           "#fdd0a2",
           "#31a354",
           "#a1d99b",
           "#74c476",
           "#c7e9c0",
           "#393b79",
           "#5254a3",
           "#637939",
           "#8ca252",
           "#8c6d31",
           "#bd9e39",
           "#843c39",
           "#ad494a",
           "#7b4173",
           "#a55194",
           "#3182bd",
           "#6baed6",
           "#e6550d",
           "#fd8d3c",
           "#31a354",
           "#74c476",
           "#393b79",
           "#637939",
           "#bd9e39",
           "#843c39",
           "#7b4173",
           "#3182bd",
           "#e6550d",
           "#31a354",
           "#637939",
           "#bd9e39",
           "#3182bd",
           "#e6550d",
           "#bd9e39",
           "#e6550d",
           "#637939",
           "#3182bd",
           "#637939"
          ],
          "source": [
           0,
           24,
           2,
           17,
           1,
           3,
           25,
           16,
           4,
           19,
           6,
           27,
           7,
           26,
           18,
           5,
           20,
           10,
           9,
           29,
           8,
           21,
           11,
           28,
           15,
           12,
           22,
           31,
           14,
           23,
           13,
           30,
           32,
           32,
           33,
           33,
           34,
           34,
           35,
           35,
           36,
           36,
           37,
           37,
           38,
           38,
           39,
           39,
           40,
           41,
           42,
           43,
           44,
           45,
           46,
           47,
           48,
           49,
           50,
           51,
           52,
           53,
           52,
           53,
           55
          ],
          "target": [
           32,
           32,
           32,
           32,
           33,
           33,
           33,
           33,
           34,
           34,
           34,
           34,
           35,
           35,
           35,
           35,
           36,
           36,
           36,
           36,
           37,
           37,
           37,
           37,
           38,
           38,
           38,
           38,
           39,
           39,
           39,
           39,
           40,
           41,
           41,
           40,
           42,
           43,
           43,
           42,
           44,
           45,
           45,
           44,
           46,
           47,
           47,
           46,
           48,
           48,
           49,
           49,
           50,
           50,
           51,
           51,
           52,
           52,
           53,
           53,
           54,
           54,
           55,
           55,
           56
          ],
          "value": [
           1,
           4,
           6,
           7,
           7,
           5,
           3,
           1,
           6,
           4,
           4,
           3,
           6,
           6,
           4,
           1,
           6,
           4,
           4,
           3,
           7,
           5,
           4,
           1,
           6,
           6,
           4,
           1,
           6,
           4,
           4,
           3,
           7,
           6,
           7,
           5,
           6,
           4,
           6,
           6,
           6,
           4,
           7,
           5,
           6,
           6,
           6,
           4,
           3,
           2,
           4,
           4,
           3,
           3,
           3,
           6,
           6,
           5,
           2,
           1,
           1,
           1,
           3,
           2,
           7
          ]
         },
         "node": {
          "color": "silver",
          "label": [
           "Qatar",
           "England",
           "Senegal",
           "United States",
           "Argentina",
           "Denmark",
           "Mexico",
           "France",
           "Morocco",
           "Germany",
           "Spain",
           "Belgium",
           "Switzerland",
           "Uruguay",
           "Portugal",
           "Brazil",
           "Wales",
           "Netherlands",
           "Tunisia",
           "Poland",
           "Japan",
           "Croatia",
           "Cameroon",
           "Korea Republic",
           "Ecuador",
           "Iran",
           "Australia",
           "Saudi Arabia",
           "Canada",
           "Costa Rica",
           "Ghana",
           "Serbia",
           "Group A",
           "Group B",
           "Group C",
           "Group D",
           "Group F",
           "Group E",
           "Group G",
           "Group H",
           "Round of 16-1",
           "Round of 16-2",
           "Round of 16-3",
           "Round of 16-4",
           "Round of 16-5",
           "Round of 16-6",
           "Round of 16-7",
           "Round of 16-8",
           "Quarter-final-1",
           "Quarter-final-2",
           "Quarter-final-3",
           "Quarter-final-4",
           "Semi-final-1",
           "Semi-final-2",
           "Play-off for third place",
           "Final",
           "Argentina"
          ],
          "line": {
           "color": "black",
           "width": 0.5
          },
          "pad": 15,
          "thickness": 20
         },
         "type": "sankey"
        }
       ],
       "layout": {
        "font": {
         "size": 12
        },
        "template": {
         "data": {
          "bar": [
           {
            "error_x": {
             "color": "#2a3f5f"
            },
            "error_y": {
             "color": "#2a3f5f"
            },
            "marker": {
             "line": {
              "color": "#E5ECF6",
              "width": 0.5
             },
             "pattern": {
              "fillmode": "overlay",
              "size": 10,
              "solidity": 0.2
             }
            },
            "type": "bar"
           }
          ],
          "barpolar": [
           {
            "marker": {
             "line": {
              "color": "#E5ECF6",
              "width": 0.5
             },
             "pattern": {
              "fillmode": "overlay",
              "size": 10,
              "solidity": 0.2
             }
            },
            "type": "barpolar"
           }
          ],
          "carpet": [
           {
            "aaxis": {
             "endlinecolor": "#2a3f5f",
             "gridcolor": "white",
             "linecolor": "white",
             "minorgridcolor": "white",
             "startlinecolor": "#2a3f5f"
            },
            "baxis": {
             "endlinecolor": "#2a3f5f",
             "gridcolor": "white",
             "linecolor": "white",
             "minorgridcolor": "white",
             "startlinecolor": "#2a3f5f"
            },
            "type": "carpet"
           }
          ],
          "choropleth": [
           {
            "colorbar": {
             "outlinewidth": 0,
             "ticks": ""
            },
            "type": "choropleth"
           }
          ],
          "contour": [
           {
            "colorbar": {
             "outlinewidth": 0,
             "ticks": ""
            },
            "colorscale": [
             [
              0,
              "#0d0887"
             ],
             [
              0.1111111111111111,
              "#46039f"
             ],
             [
              0.2222222222222222,
              "#7201a8"
             ],
             [
              0.3333333333333333,
              "#9c179e"
             ],
             [
              0.4444444444444444,
              "#bd3786"
             ],
             [
              0.5555555555555556,
              "#d8576b"
             ],
             [
              0.6666666666666666,
              "#ed7953"
             ],
             [
              0.7777777777777778,
              "#fb9f3a"
             ],
             [
              0.8888888888888888,
              "#fdca26"
             ],
             [
              1,
              "#f0f921"
             ]
            ],
            "type": "contour"
           }
          ],
          "contourcarpet": [
           {
            "colorbar": {
             "outlinewidth": 0,
             "ticks": ""
            },
            "type": "contourcarpet"
           }
          ],
          "heatmap": [
           {
            "colorbar": {
             "outlinewidth": 0,
             "ticks": ""
            },
            "colorscale": [
             [
              0,
              "#0d0887"
             ],
             [
              0.1111111111111111,
              "#46039f"
             ],
             [
              0.2222222222222222,
              "#7201a8"
             ],
             [
              0.3333333333333333,
              "#9c179e"
             ],
             [
              0.4444444444444444,
              "#bd3786"
             ],
             [
              0.5555555555555556,
              "#d8576b"
             ],
             [
              0.6666666666666666,
              "#ed7953"
             ],
             [
              0.7777777777777778,
              "#fb9f3a"
             ],
             [
              0.8888888888888888,
              "#fdca26"
             ],
             [
              1,
              "#f0f921"
             ]
            ],
            "type": "heatmap"
           }
          ],
          "heatmapgl": [
           {
            "colorbar": {
             "outlinewidth": 0,
             "ticks": ""
            },
            "colorscale": [
             [
              0,
              "#0d0887"
             ],
             [
              0.1111111111111111,
              "#46039f"
             ],
             [
              0.2222222222222222,
              "#7201a8"
             ],
             [
              0.3333333333333333,
              "#9c179e"
             ],
             [
              0.4444444444444444,
              "#bd3786"
             ],
             [
              0.5555555555555556,
              "#d8576b"
             ],
             [
              0.6666666666666666,
              "#ed7953"
             ],
             [
              0.7777777777777778,
              "#fb9f3a"
             ],
             [
              0.8888888888888888,
              "#fdca26"
             ],
             [
              1,
              "#f0f921"
             ]
            ],
            "type": "heatmapgl"
           }
          ],
          "histogram": [
           {
            "marker": {
             "pattern": {
              "fillmode": "overlay",
              "size": 10,
              "solidity": 0.2
             }
            },
            "type": "histogram"
           }
          ],
          "histogram2d": [
           {
            "colorbar": {
             "outlinewidth": 0,
             "ticks": ""
            },
            "colorscale": [
             [
              0,
              "#0d0887"
             ],
             [
              0.1111111111111111,
              "#46039f"
             ],
             [
              0.2222222222222222,
              "#7201a8"
             ],
             [
              0.3333333333333333,
              "#9c179e"
             ],
             [
              0.4444444444444444,
              "#bd3786"
             ],
             [
              0.5555555555555556,
              "#d8576b"
             ],
             [
              0.6666666666666666,
              "#ed7953"
             ],
             [
              0.7777777777777778,
              "#fb9f3a"
             ],
             [
              0.8888888888888888,
              "#fdca26"
             ],
             [
              1,
              "#f0f921"
             ]
            ],
            "type": "histogram2d"
           }
          ],
          "histogram2dcontour": [
           {
            "colorbar": {
             "outlinewidth": 0,
             "ticks": ""
            },
            "colorscale": [
             [
              0,
              "#0d0887"
             ],
             [
              0.1111111111111111,
              "#46039f"
             ],
             [
              0.2222222222222222,
              "#7201a8"
             ],
             [
              0.3333333333333333,
              "#9c179e"
             ],
             [
              0.4444444444444444,
              "#bd3786"
             ],
             [
              0.5555555555555556,
              "#d8576b"
             ],
             [
              0.6666666666666666,
              "#ed7953"
             ],
             [
              0.7777777777777778,
              "#fb9f3a"
             ],
             [
              0.8888888888888888,
              "#fdca26"
             ],
             [
              1,
              "#f0f921"
             ]
            ],
            "type": "histogram2dcontour"
           }
          ],
          "mesh3d": [
           {
            "colorbar": {
             "outlinewidth": 0,
             "ticks": ""
            },
            "type": "mesh3d"
           }
          ],
          "parcoords": [
           {
            "line": {
             "colorbar": {
              "outlinewidth": 0,
              "ticks": ""
             }
            },
            "type": "parcoords"
           }
          ],
          "pie": [
           {
            "automargin": true,
            "type": "pie"
           }
          ],
          "scatter": [
           {
            "marker": {
             "colorbar": {
              "outlinewidth": 0,
              "ticks": ""
             }
            },
            "type": "scatter"
           }
          ],
          "scatter3d": [
           {
            "line": {
             "colorbar": {
              "outlinewidth": 0,
              "ticks": ""
             }
            },
            "marker": {
             "colorbar": {
              "outlinewidth": 0,
              "ticks": ""
             }
            },
            "type": "scatter3d"
           }
          ],
          "scattercarpet": [
           {
            "marker": {
             "colorbar": {
              "outlinewidth": 0,
              "ticks": ""
             }
            },
            "type": "scattercarpet"
           }
          ],
          "scattergeo": [
           {
            "marker": {
             "colorbar": {
              "outlinewidth": 0,
              "ticks": ""
             }
            },
            "type": "scattergeo"
           }
          ],
          "scattergl": [
           {
            "marker": {
             "colorbar": {
              "outlinewidth": 0,
              "ticks": ""
             }
            },
            "type": "scattergl"
           }
          ],
          "scattermapbox": [
           {
            "marker": {
             "colorbar": {
              "outlinewidth": 0,
              "ticks": ""
             }
            },
            "type": "scattermapbox"
           }
          ],
          "scatterpolar": [
           {
            "marker": {
             "colorbar": {
              "outlinewidth": 0,
              "ticks": ""
             }
            },
            "type": "scatterpolar"
           }
          ],
          "scatterpolargl": [
           {
            "marker": {
             "colorbar": {
              "outlinewidth": 0,
              "ticks": ""
             }
            },
            "type": "scatterpolargl"
           }
          ],
          "scatterternary": [
           {
            "marker": {
             "colorbar": {
              "outlinewidth": 0,
              "ticks": ""
             }
            },
            "type": "scatterternary"
           }
          ],
          "surface": [
           {
            "colorbar": {
             "outlinewidth": 0,
             "ticks": ""
            },
            "colorscale": [
             [
              0,
              "#0d0887"
             ],
             [
              0.1111111111111111,
              "#46039f"
             ],
             [
              0.2222222222222222,
              "#7201a8"
             ],
             [
              0.3333333333333333,
              "#9c179e"
             ],
             [
              0.4444444444444444,
              "#bd3786"
             ],
             [
              0.5555555555555556,
              "#d8576b"
             ],
             [
              0.6666666666666666,
              "#ed7953"
             ],
             [
              0.7777777777777778,
              "#fb9f3a"
             ],
             [
              0.8888888888888888,
              "#fdca26"
             ],
             [
              1,
              "#f0f921"
             ]
            ],
            "type": "surface"
           }
          ],
          "table": [
           {
            "cells": {
             "fill": {
              "color": "#EBF0F8"
             },
             "line": {
              "color": "white"
             }
            },
            "header": {
             "fill": {
              "color": "#C8D4E3"
             },
             "line": {
              "color": "white"
             }
            },
            "type": "table"
           }
          ]
         },
         "layout": {
          "annotationdefaults": {
           "arrowcolor": "#2a3f5f",
           "arrowhead": 0,
           "arrowwidth": 1
          },
          "autotypenumbers": "strict",
          "coloraxis": {
           "colorbar": {
            "outlinewidth": 0,
            "ticks": ""
           }
          },
          "colorscale": {
           "diverging": [
            [
             0,
             "#8e0152"
            ],
            [
             0.1,
             "#c51b7d"
            ],
            [
             0.2,
             "#de77ae"
            ],
            [
             0.3,
             "#f1b6da"
            ],
            [
             0.4,
             "#fde0ef"
            ],
            [
             0.5,
             "#f7f7f7"
            ],
            [
             0.6,
             "#e6f5d0"
            ],
            [
             0.7,
             "#b8e186"
            ],
            [
             0.8,
             "#7fbc41"
            ],
            [
             0.9,
             "#4d9221"
            ],
            [
             1,
             "#276419"
            ]
           ],
           "sequential": [
            [
             0,
             "#0d0887"
            ],
            [
             0.1111111111111111,
             "#46039f"
            ],
            [
             0.2222222222222222,
             "#7201a8"
            ],
            [
             0.3333333333333333,
             "#9c179e"
            ],
            [
             0.4444444444444444,
             "#bd3786"
            ],
            [
             0.5555555555555556,
             "#d8576b"
            ],
            [
             0.6666666666666666,
             "#ed7953"
            ],
            [
             0.7777777777777778,
             "#fb9f3a"
            ],
            [
             0.8888888888888888,
             "#fdca26"
            ],
            [
             1,
             "#f0f921"
            ]
           ],
           "sequentialminus": [
            [
             0,
             "#0d0887"
            ],
            [
             0.1111111111111111,
             "#46039f"
            ],
            [
             0.2222222222222222,
             "#7201a8"
            ],
            [
             0.3333333333333333,
             "#9c179e"
            ],
            [
             0.4444444444444444,
             "#bd3786"
            ],
            [
             0.5555555555555556,
             "#d8576b"
            ],
            [
             0.6666666666666666,
             "#ed7953"
            ],
            [
             0.7777777777777778,
             "#fb9f3a"
            ],
            [
             0.8888888888888888,
             "#fdca26"
            ],
            [
             1,
             "#f0f921"
            ]
           ]
          },
          "colorway": [
           "#636efa",
           "#EF553B",
           "#00cc96",
           "#ab63fa",
           "#FFA15A",
           "#19d3f3",
           "#FF6692",
           "#B6E880",
           "#FF97FF",
           "#FECB52"
          ],
          "font": {
           "color": "#2a3f5f"
          },
          "geo": {
           "bgcolor": "white",
           "lakecolor": "white",
           "landcolor": "#E5ECF6",
           "showlakes": true,
           "showland": true,
           "subunitcolor": "white"
          },
          "hoverlabel": {
           "align": "left"
          },
          "hovermode": "closest",
          "mapbox": {
           "style": "light"
          },
          "paper_bgcolor": "white",
          "plot_bgcolor": "#E5ECF6",
          "polar": {
           "angularaxis": {
            "gridcolor": "white",
            "linecolor": "white",
            "ticks": ""
           },
           "bgcolor": "#E5ECF6",
           "radialaxis": {
            "gridcolor": "white",
            "linecolor": "white",
            "ticks": ""
           }
          },
          "scene": {
           "xaxis": {
            "backgroundcolor": "#E5ECF6",
            "gridcolor": "white",
            "gridwidth": 2,
            "linecolor": "white",
            "showbackground": true,
            "ticks": "",
            "zerolinecolor": "white"
           },
           "yaxis": {
            "backgroundcolor": "#E5ECF6",
            "gridcolor": "white",
            "gridwidth": 2,
            "linecolor": "white",
            "showbackground": true,
            "ticks": "",
            "zerolinecolor": "white"
           },
           "zaxis": {
            "backgroundcolor": "#E5ECF6",
            "gridcolor": "white",
            "gridwidth": 2,
            "linecolor": "white",
            "showbackground": true,
            "ticks": "",
            "zerolinecolor": "white"
           }
          },
          "shapedefaults": {
           "line": {
            "color": "#2a3f5f"
           }
          },
          "ternary": {
           "aaxis": {
            "gridcolor": "white",
            "linecolor": "white",
            "ticks": ""
           },
           "baxis": {
            "gridcolor": "white",
            "linecolor": "white",
            "ticks": ""
           },
           "bgcolor": "#E5ECF6",
           "caxis": {
            "gridcolor": "white",
            "linecolor": "white",
            "ticks": ""
           }
          },
          "title": {
           "x": 0.05
          },
          "xaxis": {
           "automargin": true,
           "gridcolor": "white",
           "linecolor": "white",
           "ticks": "",
           "title": {
            "standoff": 15
           },
           "zerolinecolor": "white",
           "zerolinewidth": 2
          },
          "yaxis": {
           "automargin": true,
           "gridcolor": "white",
           "linecolor": "white",
           "ticks": "",
           "title": {
            "standoff": 15
           },
           "zerolinecolor": "white",
           "zerolinewidth": 2
          }
         }
        },
        "title": {
         "text": "Sankey diagram for the 2022 FIFA World Cup",
         "x": 0.5,
         "xanchor": "center",
         "y": 0.9,
         "yanchor": "top"
        }
       }
      },
      "text/html": [
       "<div>                            <div id=\"66d6ee13-029d-4c92-a4dd-eb18faac4389\" class=\"plotly-graph-div\" style=\"height:525px; width:100%;\"></div>            <script type=\"text/javascript\">                require([\"plotly\"], function(Plotly) {                    window.PLOTLYENV=window.PLOTLYENV || {};                                    if (document.getElementById(\"66d6ee13-029d-4c92-a4dd-eb18faac4389\")) {                    Plotly.newPlot(                        \"66d6ee13-029d-4c92-a4dd-eb18faac4389\",                        [{\"link\":{\"color\":[\"#9c9ede\",\"#6b6ecf\",\"#5254a3\",\"#393b79\",\"#637939\",\"#8ca252\",\"#b5cf6b\",\"#cedb9c\",\"#8c6d31\",\"#e7ba52\",\"#bd9e39\",\"#e7cb94\",\"#843c39\",\"#ad494a\",\"#d6616b\",\"#e7969c\",\"#7b4173\",\"#ce6dbd\",\"#a55194\",\"#de9ed6\",\"#3182bd\",\"#6baed6\",\"#9ecae1\",\"#c6dbef\",\"#fd8d3c\",\"#e6550d\",\"#fdae6b\",\"#fdd0a2\",\"#31a354\",\"#a1d99b\",\"#74c476\",\"#c7e9c0\",\"#393b79\",\"#5254a3\",\"#637939\",\"#8ca252\",\"#8c6d31\",\"#bd9e39\",\"#843c39\",\"#ad494a\",\"#7b4173\",\"#a55194\",\"#3182bd\",\"#6baed6\",\"#e6550d\",\"#fd8d3c\",\"#31a354\",\"#74c476\",\"#393b79\",\"#637939\",\"#bd9e39\",\"#843c39\",\"#7b4173\",\"#3182bd\",\"#e6550d\",\"#31a354\",\"#637939\",\"#bd9e39\",\"#3182bd\",\"#e6550d\",\"#bd9e39\",\"#e6550d\",\"#637939\",\"#3182bd\",\"#637939\"],\"source\":[0,24,2,17,1,3,25,16,4,19,6,27,7,26,18,5,20,10,9,29,8,21,11,28,15,12,22,31,14,23,13,30,32,32,33,33,34,34,35,35,36,36,37,37,38,38,39,39,40,41,42,43,44,45,46,47,48,49,50,51,52,53,52,53,55],\"target\":[32,32,32,32,33,33,33,33,34,34,34,34,35,35,35,35,36,36,36,36,37,37,37,37,38,38,38,38,39,39,39,39,40,41,41,40,42,43,43,42,44,45,45,44,46,47,47,46,48,48,49,49,50,50,51,51,52,52,53,53,54,54,55,55,56],\"value\":[1,4,6,7,7,5,3,1,6,4,4,3,6,6,4,1,6,4,4,3,7,5,4,1,6,6,4,1,6,4,4,3,7,6,7,5,6,4,6,6,6,4,7,5,6,6,6,4,3,2,4,4,3,3,3,6,6,5,2,1,1,1,3,2,7]},\"node\":{\"color\":\"silver\",\"label\":[\"Qatar\",\"England\",\"Senegal\",\"United States\",\"Argentina\",\"Denmark\",\"Mexico\",\"France\",\"Morocco\",\"Germany\",\"Spain\",\"Belgium\",\"Switzerland\",\"Uruguay\",\"Portugal\",\"Brazil\",\"Wales\",\"Netherlands\",\"Tunisia\",\"Poland\",\"Japan\",\"Croatia\",\"Cameroon\",\"Korea Republic\",\"Ecuador\",\"Iran\",\"Australia\",\"Saudi Arabia\",\"Canada\",\"Costa Rica\",\"Ghana\",\"Serbia\",\"Group A\",\"Group B\",\"Group C\",\"Group D\",\"Group F\",\"Group E\",\"Group G\",\"Group H\",\"Round of 16-1\",\"Round of 16-2\",\"Round of 16-3\",\"Round of 16-4\",\"Round of 16-5\",\"Round of 16-6\",\"Round of 16-7\",\"Round of 16-8\",\"Quarter-final-1\",\"Quarter-final-2\",\"Quarter-final-3\",\"Quarter-final-4\",\"Semi-final-1\",\"Semi-final-2\",\"Play-off for third place\",\"Final\",\"Argentina\"],\"line\":{\"color\":\"black\",\"width\":0.5},\"pad\":15,\"thickness\":20},\"type\":\"sankey\"}],                        {\"font\":{\"size\":12},\"template\":{\"data\":{\"bar\":[{\"error_x\":{\"color\":\"#2a3f5f\"},\"error_y\":{\"color\":\"#2a3f5f\"},\"marker\":{\"line\":{\"color\":\"#E5ECF6\",\"width\":0.5},\"pattern\":{\"fillmode\":\"overlay\",\"size\":10,\"solidity\":0.2}},\"type\":\"bar\"}],\"barpolar\":[{\"marker\":{\"line\":{\"color\":\"#E5ECF6\",\"width\":0.5},\"pattern\":{\"fillmode\":\"overlay\",\"size\":10,\"solidity\":0.2}},\"type\":\"barpolar\"}],\"carpet\":[{\"aaxis\":{\"endlinecolor\":\"#2a3f5f\",\"gridcolor\":\"white\",\"linecolor\":\"white\",\"minorgridcolor\":\"white\",\"startlinecolor\":\"#2a3f5f\"},\"baxis\":{\"endlinecolor\":\"#2a3f5f\",\"gridcolor\":\"white\",\"linecolor\":\"white\",\"minorgridcolor\":\"white\",\"startlinecolor\":\"#2a3f5f\"},\"type\":\"carpet\"}],\"choropleth\":[{\"colorbar\":{\"outlinewidth\":0,\"ticks\":\"\"},\"type\":\"choropleth\"}],\"contour\":[{\"colorbar\":{\"outlinewidth\":0,\"ticks\":\"\"},\"colorscale\":[[0.0,\"#0d0887\"],[0.1111111111111111,\"#46039f\"],[0.2222222222222222,\"#7201a8\"],[0.3333333333333333,\"#9c179e\"],[0.4444444444444444,\"#bd3786\"],[0.5555555555555556,\"#d8576b\"],[0.6666666666666666,\"#ed7953\"],[0.7777777777777778,\"#fb9f3a\"],[0.8888888888888888,\"#fdca26\"],[1.0,\"#f0f921\"]],\"type\":\"contour\"}],\"contourcarpet\":[{\"colorbar\":{\"outlinewidth\":0,\"ticks\":\"\"},\"type\":\"contourcarpet\"}],\"heatmap\":[{\"colorbar\":{\"outlinewidth\":0,\"ticks\":\"\"},\"colorscale\":[[0.0,\"#0d0887\"],[0.1111111111111111,\"#46039f\"],[0.2222222222222222,\"#7201a8\"],[0.3333333333333333,\"#9c179e\"],[0.4444444444444444,\"#bd3786\"],[0.5555555555555556,\"#d8576b\"],[0.6666666666666666,\"#ed7953\"],[0.7777777777777778,\"#fb9f3a\"],[0.8888888888888888,\"#fdca26\"],[1.0,\"#f0f921\"]],\"type\":\"heatmap\"}],\"heatmapgl\":[{\"colorbar\":{\"outlinewidth\":0,\"ticks\":\"\"},\"colorscale\":[[0.0,\"#0d0887\"],[0.1111111111111111,\"#46039f\"],[0.2222222222222222,\"#7201a8\"],[0.3333333333333333,\"#9c179e\"],[0.4444444444444444,\"#bd3786\"],[0.5555555555555556,\"#d8576b\"],[0.6666666666666666,\"#ed7953\"],[0.7777777777777778,\"#fb9f3a\"],[0.8888888888888888,\"#fdca26\"],[1.0,\"#f0f921\"]],\"type\":\"heatmapgl\"}],\"histogram\":[{\"marker\":{\"pattern\":{\"fillmode\":\"overlay\",\"size\":10,\"solidity\":0.2}},\"type\":\"histogram\"}],\"histogram2d\":[{\"colorbar\":{\"outlinewidth\":0,\"ticks\":\"\"},\"colorscale\":[[0.0,\"#0d0887\"],[0.1111111111111111,\"#46039f\"],[0.2222222222222222,\"#7201a8\"],[0.3333333333333333,\"#9c179e\"],[0.4444444444444444,\"#bd3786\"],[0.5555555555555556,\"#d8576b\"],[0.6666666666666666,\"#ed7953\"],[0.7777777777777778,\"#fb9f3a\"],[0.8888888888888888,\"#fdca26\"],[1.0,\"#f0f921\"]],\"type\":\"histogram2d\"}],\"histogram2dcontour\":[{\"colorbar\":{\"outlinewidth\":0,\"ticks\":\"\"},\"colorscale\":[[0.0,\"#0d0887\"],[0.1111111111111111,\"#46039f\"],[0.2222222222222222,\"#7201a8\"],[0.3333333333333333,\"#9c179e\"],[0.4444444444444444,\"#bd3786\"],[0.5555555555555556,\"#d8576b\"],[0.6666666666666666,\"#ed7953\"],[0.7777777777777778,\"#fb9f3a\"],[0.8888888888888888,\"#fdca26\"],[1.0,\"#f0f921\"]],\"type\":\"histogram2dcontour\"}],\"mesh3d\":[{\"colorbar\":{\"outlinewidth\":0,\"ticks\":\"\"},\"type\":\"mesh3d\"}],\"parcoords\":[{\"line\":{\"colorbar\":{\"outlinewidth\":0,\"ticks\":\"\"}},\"type\":\"parcoords\"}],\"pie\":[{\"automargin\":true,\"type\":\"pie\"}],\"scatter\":[{\"marker\":{\"colorbar\":{\"outlinewidth\":0,\"ticks\":\"\"}},\"type\":\"scatter\"}],\"scatter3d\":[{\"line\":{\"colorbar\":{\"outlinewidth\":0,\"ticks\":\"\"}},\"marker\":{\"colorbar\":{\"outlinewidth\":0,\"ticks\":\"\"}},\"type\":\"scatter3d\"}],\"scattercarpet\":[{\"marker\":{\"colorbar\":{\"outlinewidth\":0,\"ticks\":\"\"}},\"type\":\"scattercarpet\"}],\"scattergeo\":[{\"marker\":{\"colorbar\":{\"outlinewidth\":0,\"ticks\":\"\"}},\"type\":\"scattergeo\"}],\"scattergl\":[{\"marker\":{\"colorbar\":{\"outlinewidth\":0,\"ticks\":\"\"}},\"type\":\"scattergl\"}],\"scattermapbox\":[{\"marker\":{\"colorbar\":{\"outlinewidth\":0,\"ticks\":\"\"}},\"type\":\"scattermapbox\"}],\"scatterpolar\":[{\"marker\":{\"colorbar\":{\"outlinewidth\":0,\"ticks\":\"\"}},\"type\":\"scatterpolar\"}],\"scatterpolargl\":[{\"marker\":{\"colorbar\":{\"outlinewidth\":0,\"ticks\":\"\"}},\"type\":\"scatterpolargl\"}],\"scatterternary\":[{\"marker\":{\"colorbar\":{\"outlinewidth\":0,\"ticks\":\"\"}},\"type\":\"scatterternary\"}],\"surface\":[{\"colorbar\":{\"outlinewidth\":0,\"ticks\":\"\"},\"colorscale\":[[0.0,\"#0d0887\"],[0.1111111111111111,\"#46039f\"],[0.2222222222222222,\"#7201a8\"],[0.3333333333333333,\"#9c179e\"],[0.4444444444444444,\"#bd3786\"],[0.5555555555555556,\"#d8576b\"],[0.6666666666666666,\"#ed7953\"],[0.7777777777777778,\"#fb9f3a\"],[0.8888888888888888,\"#fdca26\"],[1.0,\"#f0f921\"]],\"type\":\"surface\"}],\"table\":[{\"cells\":{\"fill\":{\"color\":\"#EBF0F8\"},\"line\":{\"color\":\"white\"}},\"header\":{\"fill\":{\"color\":\"#C8D4E3\"},\"line\":{\"color\":\"white\"}},\"type\":\"table\"}]},\"layout\":{\"annotationdefaults\":{\"arrowcolor\":\"#2a3f5f\",\"arrowhead\":0,\"arrowwidth\":1},\"autotypenumbers\":\"strict\",\"coloraxis\":{\"colorbar\":{\"outlinewidth\":0,\"ticks\":\"\"}},\"colorscale\":{\"diverging\":[[0,\"#8e0152\"],[0.1,\"#c51b7d\"],[0.2,\"#de77ae\"],[0.3,\"#f1b6da\"],[0.4,\"#fde0ef\"],[0.5,\"#f7f7f7\"],[0.6,\"#e6f5d0\"],[0.7,\"#b8e186\"],[0.8,\"#7fbc41\"],[0.9,\"#4d9221\"],[1,\"#276419\"]],\"sequential\":[[0.0,\"#0d0887\"],[0.1111111111111111,\"#46039f\"],[0.2222222222222222,\"#7201a8\"],[0.3333333333333333,\"#9c179e\"],[0.4444444444444444,\"#bd3786\"],[0.5555555555555556,\"#d8576b\"],[0.6666666666666666,\"#ed7953\"],[0.7777777777777778,\"#fb9f3a\"],[0.8888888888888888,\"#fdca26\"],[1.0,\"#f0f921\"]],\"sequentialminus\":[[0.0,\"#0d0887\"],[0.1111111111111111,\"#46039f\"],[0.2222222222222222,\"#7201a8\"],[0.3333333333333333,\"#9c179e\"],[0.4444444444444444,\"#bd3786\"],[0.5555555555555556,\"#d8576b\"],[0.6666666666666666,\"#ed7953\"],[0.7777777777777778,\"#fb9f3a\"],[0.8888888888888888,\"#fdca26\"],[1.0,\"#f0f921\"]]},\"colorway\":[\"#636efa\",\"#EF553B\",\"#00cc96\",\"#ab63fa\",\"#FFA15A\",\"#19d3f3\",\"#FF6692\",\"#B6E880\",\"#FF97FF\",\"#FECB52\"],\"font\":{\"color\":\"#2a3f5f\"},\"geo\":{\"bgcolor\":\"white\",\"lakecolor\":\"white\",\"landcolor\":\"#E5ECF6\",\"showlakes\":true,\"showland\":true,\"subunitcolor\":\"white\"},\"hoverlabel\":{\"align\":\"left\"},\"hovermode\":\"closest\",\"mapbox\":{\"style\":\"light\"},\"paper_bgcolor\":\"white\",\"plot_bgcolor\":\"#E5ECF6\",\"polar\":{\"angularaxis\":{\"gridcolor\":\"white\",\"linecolor\":\"white\",\"ticks\":\"\"},\"bgcolor\":\"#E5ECF6\",\"radialaxis\":{\"gridcolor\":\"white\",\"linecolor\":\"white\",\"ticks\":\"\"}},\"scene\":{\"xaxis\":{\"backgroundcolor\":\"#E5ECF6\",\"gridcolor\":\"white\",\"gridwidth\":2,\"linecolor\":\"white\",\"showbackground\":true,\"ticks\":\"\",\"zerolinecolor\":\"white\"},\"yaxis\":{\"backgroundcolor\":\"#E5ECF6\",\"gridcolor\":\"white\",\"gridwidth\":2,\"linecolor\":\"white\",\"showbackground\":true,\"ticks\":\"\",\"zerolinecolor\":\"white\"},\"zaxis\":{\"backgroundcolor\":\"#E5ECF6\",\"gridcolor\":\"white\",\"gridwidth\":2,\"linecolor\":\"white\",\"showbackground\":true,\"ticks\":\"\",\"zerolinecolor\":\"white\"}},\"shapedefaults\":{\"line\":{\"color\":\"#2a3f5f\"}},\"ternary\":{\"aaxis\":{\"gridcolor\":\"white\",\"linecolor\":\"white\",\"ticks\":\"\"},\"baxis\":{\"gridcolor\":\"white\",\"linecolor\":\"white\",\"ticks\":\"\"},\"bgcolor\":\"#E5ECF6\",\"caxis\":{\"gridcolor\":\"white\",\"linecolor\":\"white\",\"ticks\":\"\"}},\"title\":{\"x\":0.05},\"xaxis\":{\"automargin\":true,\"gridcolor\":\"white\",\"linecolor\":\"white\",\"ticks\":\"\",\"title\":{\"standoff\":15},\"zerolinecolor\":\"white\",\"zerolinewidth\":2},\"yaxis\":{\"automargin\":true,\"gridcolor\":\"white\",\"linecolor\":\"white\",\"ticks\":\"\",\"title\":{\"standoff\":15},\"zerolinecolor\":\"white\",\"zerolinewidth\":2}}},\"title\":{\"text\":\"Sankey diagram for the 2022 FIFA World Cup\",\"x\":0.5,\"xanchor\":\"center\",\"y\":0.9,\"yanchor\":\"top\"}},                        {\"responsive\": true}                    ).then(function(){\n",
       "                            \n",
       "var gd = document.getElementById('66d6ee13-029d-4c92-a4dd-eb18faac4389');\n",
       "var x = new MutationObserver(function (mutations, observer) {{\n",
       "        var display = window.getComputedStyle(gd).display;\n",
       "        if (!display || display === 'none') {{\n",
       "            console.log([gd, 'removed!']);\n",
       "            Plotly.purge(gd);\n",
       "            observer.disconnect();\n",
       "        }}\n",
       "}});\n",
       "\n",
       "// Listen for the removal of the full notebook cells\n",
       "var notebookContainer = gd.closest('#notebook-container');\n",
       "if (notebookContainer) {{\n",
       "    x.observe(notebookContainer, {childList: true});\n",
       "}}\n",
       "\n",
       "// Listen for the clearing of the current output cell\n",
       "var outputEl = gd.closest('.output');\n",
       "if (outputEl) {{\n",
       "    x.observe(outputEl, {childList: true});\n",
       "}}\n",
       "\n",
       "                        })                };                });            </script>        </div>"
      ]
     },
     "metadata": {},
     "output_type": "display_data"
    }
   ],
   "source": [
    "offline.init_notebook_mode(connected= True)\n",
    "\n",
    "fig= go.Figure(data=[go.Sankey(\n",
    "    node= dict(\n",
    "      pad = 15,\n",
    "      thickness= 20,\n",
    "      line = dict(color= \"black\", width= 0.5),\n",
    "      label= labels,\n",
    "      color= \"silver\"\n",
    "    ),\n",
    "    link = dict(\n",
    "      source= [0,24,2,17,1,3,25,16,4,19,6,27,7,26,18,5,\n",
    "               20,10,9,29,8,21,11,28,15,12,22,31,14,23,13,30, \n",
    "               32,32,33,33,34,34,35,35, 36,36,37,37,38,38,39,39,\n",
    "               40,41, 42,43, 44,45, 46,47, \n",
    "               48,49, 50,51, \n",
    "               52,53, 52,53, 55\n",
    "              ],\n",
    "      \n",
    "      target= [32,32,32,32,33,33,33,33,34,34,34,34,35,35,35,35,\n",
    "               36,36,36,36,37,37,37,37,38,38,38,38,39,39,39,39,\n",
    "               40,41,41,40, 42,43,43,42, 44,45,45,44, 46,47,47,46,\n",
    "               48,48, 49,49, 50,50, 51,51, \n",
    "               52,52,53,53, \n",
    "               54,54, 55,55, 56\n",
    "              ],\n",
    "      \n",
    "      value= [1,4,6,7,7,5,3,1,6,4,4,3,6,6,4,1,\n",
    "              6,4,4,3,7,5,4,1,6,6,4,1,6,4,4,3, \n",
    "              7,6,7,5,6,4,6,6, 6,4,7,5,6,6,6,4,\n",
    "              3,2, 4,4, 3,3, 3,6, \n",
    "              6,5,2,1, \n",
    "              1,1, 3,2, 7\n",
    "             ],\n",
    "      \n",
    "      color= [cm[3],cm[2],cm[1],cm[0],cm[4],cm[5],cm[6],cm[7],cm[8],cm[10],cm[9],cm[11],cm[12],cm[13],cm[14],cm[15],\n",
    "              cm[16],cm[18],cm[17],cm[19],cm[20],cm[21],cm[22],cm[23],cm[25],cm[24],cm[26],cm[27],cm[28],cm[30],cm[29],cm[31],\n",
    "              cm[0],cm[1],cm[4],cm[5],cm[8],cm[9],cm[12],cm[13],cm[16],cm[17],cm[20],cm[21],cm[24],cm[25],cm[28],cm[29],\n",
    "              cm[0],cm[4],cm[9],cm[12],cm[16],cm[20],cm[24],cm[28],\n",
    "              cm[4],cm[9],cm[20],cm[24],\n",
    "              cm[9],cm[24],cm[4],cm[20],cm[4]\n",
    "             ]\n",
    "        \n",
    "       \n",
    "  ))])\n",
    "\n",
    "fig.update_layout(title={'text':\"Sankey diagram for the 2022 FIFA World Cup\",\n",
    "                         'y':0.9,'x':0.5, 'xanchor': 'center', 'yanchor': 'top'}, font_size=12)\n",
    "\n",
    "fig.show()"
   ]
  },
  {
   "cell_type": "code",
   "execution_count": null,
   "id": "3eaa16e3",
   "metadata": {},
   "outputs": [],
   "source": []
  }
 ],
 "metadata": {
  "kernelspec": {
   "display_name": "Python 3",
   "language": "python",
   "name": "python3"
  },
  "language_info": {
   "codemirror_mode": {
    "name": "ipython",
    "version": 3
   },
   "file_extension": ".py",
   "mimetype": "text/x-python",
   "name": "python",
   "nbconvert_exporter": "python",
   "pygments_lexer": "ipython3",
   "version": "3.8.8"
  }
 },
 "nbformat": 4,
 "nbformat_minor": 5
}
