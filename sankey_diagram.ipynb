{
 "cells": [
  {
   "cell_type": "code",
   "execution_count": 1,
   "id": "0352c7bb",
   "metadata": {},
   "outputs": [],
   "source": [
    "import numpy as np\n",
    "import pandas as pd\n",
    "\n",
    "import matplotlib as mpl\n",
    "import matplotlib.pyplot as plt"
   ]
  },
  {
   "cell_type": "markdown",
   "id": "a0e8a4be",
   "metadata": {},
   "source": [
    "# Fifa World Cup 2022 dataset"
   ]
  },
  {
   "cell_type": "code",
   "execution_count": 13,
   "id": "c8b23c6c",
   "metadata": {},
   "outputs": [
    {
     "data": {
      "text/html": [
       "<div>\n",
       "<style scoped>\n",
       "    .dataframe tbody tr th:only-of-type {\n",
       "        vertical-align: middle;\n",
       "    }\n",
       "\n",
       "    .dataframe tbody tr th {\n",
       "        vertical-align: top;\n",
       "    }\n",
       "\n",
       "    .dataframe thead th {\n",
       "        text-align: right;\n",
       "    }\n",
       "</style>\n",
       "<table border=\"1\" class=\"dataframe\">\n",
       "  <thead>\n",
       "    <tr style=\"text-align: right;\">\n",
       "      <th></th>\n",
       "      <th>team1</th>\n",
       "      <th>team1</th>\n",
       "      <th>number of goals team1</th>\n",
       "      <th>number of goals team2</th>\n",
       "      <th>date</th>\n",
       "      <th>category</th>\n",
       "    </tr>\n",
       "  </thead>\n",
       "  <tbody>\n",
       "    <tr>\n",
       "      <th>0</th>\n",
       "      <td>QATAR</td>\n",
       "      <td>QATAR</td>\n",
       "      <td>0</td>\n",
       "      <td>2</td>\n",
       "      <td>2022-11-20 17:00:00</td>\n",
       "      <td>Group A</td>\n",
       "    </tr>\n",
       "    <tr>\n",
       "      <th>1</th>\n",
       "      <td>ENGLAND</td>\n",
       "      <td>ENGLAND</td>\n",
       "      <td>6</td>\n",
       "      <td>2</td>\n",
       "      <td>2022-11-21 14:00:00</td>\n",
       "      <td>Group B</td>\n",
       "    </tr>\n",
       "    <tr>\n",
       "      <th>2</th>\n",
       "      <td>SENEGAL</td>\n",
       "      <td>SENEGAL</td>\n",
       "      <td>0</td>\n",
       "      <td>2</td>\n",
       "      <td>2022-11-21 17:00:00</td>\n",
       "      <td>Group A</td>\n",
       "    </tr>\n",
       "    <tr>\n",
       "      <th>3</th>\n",
       "      <td>UNITED STATES</td>\n",
       "      <td>UNITED STATES</td>\n",
       "      <td>1</td>\n",
       "      <td>1</td>\n",
       "      <td>2022-11-21 20:00:00</td>\n",
       "      <td>Group B</td>\n",
       "    </tr>\n",
       "    <tr>\n",
       "      <th>4</th>\n",
       "      <td>ARGENTINA</td>\n",
       "      <td>ARGENTINA</td>\n",
       "      <td>1</td>\n",
       "      <td>2</td>\n",
       "      <td>2022-11-22 11:00:00</td>\n",
       "      <td>Group C</td>\n",
       "    </tr>\n",
       "  </tbody>\n",
       "</table>\n",
       "</div>"
      ],
      "text/plain": [
       "           team1          team1  number of goals team1  number of goals team2  \\\n",
       "0          QATAR          QATAR                      0                      2   \n",
       "1        ENGLAND        ENGLAND                      6                      2   \n",
       "2        SENEGAL        SENEGAL                      0                      2   \n",
       "3  UNITED STATES  UNITED STATES                      1                      1   \n",
       "4      ARGENTINA      ARGENTINA                      1                      2   \n",
       "\n",
       "                 date category  \n",
       "0 2022-11-20 17:00:00  Group A  \n",
       "1 2022-11-21 14:00:00  Group B  \n",
       "2 2022-11-21 17:00:00  Group A  \n",
       "3 2022-11-21 20:00:00  Group B  \n",
       "4 2022-11-22 11:00:00  Group C  "
      ]
     },
     "execution_count": 13,
     "metadata": {},
     "output_type": "execute_result"
    }
   ],
   "source": [
    "data= pd.read_csv('data/fifa_world_cup_matches.csv')\n",
    "\n",
    "data.columns= [x.lower() for x in data.columns]\n",
    "data= data[['team1','team1','number of goals team1','number of goals team2','date','hour','category']]\n",
    "\n",
    "data['date']= (data['date']  + ' ' + data['hour'])\n",
    "data= data.drop('hour', axis= 1)\n",
    "\n",
    "data['date']= pd.to_datetime(data['date'], format='%d %b %Y %H : %M')\n",
    "\n",
    "data.head()"
   ]
  },
  {
   "cell_type": "code",
   "execution_count": 6,
   "id": "c0d9dcc0",
   "metadata": {},
   "outputs": [],
   "source": []
  },
  {
   "cell_type": "code",
   "execution_count": null,
   "id": "e6f5598d",
   "metadata": {},
   "outputs": [],
   "source": []
  },
  {
   "cell_type": "code",
   "execution_count": null,
   "id": "10ec6f55",
   "metadata": {},
   "outputs": [],
   "source": []
  }
 ],
 "metadata": {
  "kernelspec": {
   "display_name": "Python 3",
   "language": "python",
   "name": "python3"
  },
  "language_info": {
   "codemirror_mode": {
    "name": "ipython",
    "version": 3
   },
   "file_extension": ".py",
   "mimetype": "text/x-python",
   "name": "python",
   "nbconvert_exporter": "python",
   "pygments_lexer": "ipython3",
   "version": "3.8.8"
  }
 },
 "nbformat": 4,
 "nbformat_minor": 5
}
