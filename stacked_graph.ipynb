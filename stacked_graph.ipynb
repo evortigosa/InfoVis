{
 "cells": [
  {
   "cell_type": "code",
   "execution_count": 1,
   "id": "73fa6b44",
   "metadata": {},
   "outputs": [],
   "source": [
    "import numpy as np\n",
    "import pandas as pd\n",
    "import zipfile as zf\n",
    "\n",
    "import matplotlib as mpl\n",
    "import matplotlib.pyplot as plt\n",
    "import matplotlib.patheffects as mpe\n",
    "import matplotlib.colors as mcolors\n",
    "\n",
    "from matplotlib.lines import Line2D\n",
    "\n",
    "from scipy import stats"
   ]
  },
  {
   "cell_type": "markdown",
   "id": "78f9dbea",
   "metadata": {},
   "source": [
    "# US Baby Names data"
   ]
  },
  {
   "cell_type": "code",
   "execution_count": 2,
   "id": "6f911c2d",
   "metadata": {},
   "outputs": [
    {
     "data": {
      "text/html": [
       "<div>\n",
       "<style scoped>\n",
       "    .dataframe tbody tr th:only-of-type {\n",
       "        vertical-align: middle;\n",
       "    }\n",
       "\n",
       "    .dataframe tbody tr th {\n",
       "        vertical-align: top;\n",
       "    }\n",
       "\n",
       "    .dataframe thead th {\n",
       "        text-align: right;\n",
       "    }\n",
       "</style>\n",
       "<table border=\"1\" class=\"dataframe\">\n",
       "  <thead>\n",
       "    <tr style=\"text-align: right;\">\n",
       "      <th></th>\n",
       "      <th>Name</th>\n",
       "      <th>Year</th>\n",
       "      <th>Gender</th>\n",
       "      <th>Count</th>\n",
       "    </tr>\n",
       "  </thead>\n",
       "  <tbody>\n",
       "    <tr>\n",
       "      <th>0</th>\n",
       "      <td>Mary</td>\n",
       "      <td>1880</td>\n",
       "      <td>F</td>\n",
       "      <td>7065</td>\n",
       "    </tr>\n",
       "    <tr>\n",
       "      <th>1</th>\n",
       "      <td>Anna</td>\n",
       "      <td>1880</td>\n",
       "      <td>F</td>\n",
       "      <td>2604</td>\n",
       "    </tr>\n",
       "    <tr>\n",
       "      <th>2</th>\n",
       "      <td>Emma</td>\n",
       "      <td>1880</td>\n",
       "      <td>F</td>\n",
       "      <td>2003</td>\n",
       "    </tr>\n",
       "    <tr>\n",
       "      <th>3</th>\n",
       "      <td>Elizabeth</td>\n",
       "      <td>1880</td>\n",
       "      <td>F</td>\n",
       "      <td>1939</td>\n",
       "    </tr>\n",
       "    <tr>\n",
       "      <th>4</th>\n",
       "      <td>Minnie</td>\n",
       "      <td>1880</td>\n",
       "      <td>F</td>\n",
       "      <td>1746</td>\n",
       "    </tr>\n",
       "  </tbody>\n",
       "</table>\n",
       "</div>"
      ],
      "text/plain": [
       "        Name  Year Gender  Count\n",
       "0       Mary  1880      F   7065\n",
       "1       Anna  1880      F   2604\n",
       "2       Emma  1880      F   2003\n",
       "3  Elizabeth  1880      F   1939\n",
       "4     Minnie  1880      F   1746"
      ]
     },
     "execution_count": 2,
     "metadata": {},
     "output_type": "execute_result"
    }
   ],
   "source": [
    "ds= zf.ZipFile('data/NationalNames.zip')\n",
    "\n",
    "names= pd.read_csv(ds.open('NationalNames.csv'))\n",
    "names= names.drop('Id', axis= 1)\n",
    "names.head()"
   ]
  },
  {
   "cell_type": "code",
   "execution_count": 3,
   "id": "7cb2ac89",
   "metadata": {},
   "outputs": [
    {
     "name": "stdout",
     "output_type": "stream",
     "text": [
      "58.41 MB\n"
     ]
    }
   ],
   "source": [
    "print(np.round(names.memory_usage().sum() / 10**6, 2), \"MB\")"
   ]
  },
  {
   "cell_type": "code",
   "execution_count": 4,
   "id": "7ba5a15e",
   "metadata": {},
   "outputs": [
    {
     "data": {
      "text/html": [
       "<div>\n",
       "<style scoped>\n",
       "    .dataframe tbody tr th:only-of-type {\n",
       "        vertical-align: middle;\n",
       "    }\n",
       "\n",
       "    .dataframe tbody tr th {\n",
       "        vertical-align: top;\n",
       "    }\n",
       "\n",
       "    .dataframe thead th {\n",
       "        text-align: right;\n",
       "    }\n",
       "</style>\n",
       "<table border=\"1\" class=\"dataframe\">\n",
       "  <thead>\n",
       "    <tr style=\"text-align: right;\">\n",
       "      <th></th>\n",
       "      <th>Name</th>\n",
       "      <th>Gender</th>\n",
       "      <th>Count</th>\n",
       "    </tr>\n",
       "  </thead>\n",
       "  <tbody>\n",
       "    <tr>\n",
       "      <th>0</th>\n",
       "      <td>James</td>\n",
       "      <td>M</td>\n",
       "      <td>5105919</td>\n",
       "    </tr>\n",
       "    <tr>\n",
       "      <th>1</th>\n",
       "      <td>John</td>\n",
       "      <td>M</td>\n",
       "      <td>5084943</td>\n",
       "    </tr>\n",
       "    <tr>\n",
       "      <th>2</th>\n",
       "      <td>Robert</td>\n",
       "      <td>M</td>\n",
       "      <td>4796695</td>\n",
       "    </tr>\n",
       "    <tr>\n",
       "      <th>3</th>\n",
       "      <td>Michael</td>\n",
       "      <td>M</td>\n",
       "      <td>4309198</td>\n",
       "    </tr>\n",
       "    <tr>\n",
       "      <th>4</th>\n",
       "      <td>Mary</td>\n",
       "      <td>F</td>\n",
       "      <td>4115282</td>\n",
       "    </tr>\n",
       "    <tr>\n",
       "      <th>5</th>\n",
       "      <td>William</td>\n",
       "      <td>M</td>\n",
       "      <td>4055473</td>\n",
       "    </tr>\n",
       "  </tbody>\n",
       "</table>\n",
       "</div>"
      ],
      "text/plain": [
       "      Name Gender    Count\n",
       "0    James      M  5105919\n",
       "1     John      M  5084943\n",
       "2   Robert      M  4796695\n",
       "3  Michael      M  4309198\n",
       "4     Mary      F  4115282\n",
       "5  William      M  4055473"
      ]
     },
     "execution_count": 4,
     "metadata": {},
     "output_type": "execute_result"
    }
   ],
   "source": [
    "most_frequent= (names.groupby(['Name', 'Gender'])['Count'].sum().reset_index()).sort_values('Count', \n",
    "                                                                                          ascending=False)\n",
    "most_frequent= (most_frequent.reset_index(drop=True)).loc[:5,:]\n",
    "most_frequent"
   ]
  },
  {
   "cell_type": "code",
   "execution_count": 59,
   "id": "a9135479",
   "metadata": {},
   "outputs": [],
   "source": [
    "name_list= ['Ashley', 'Amanda', 'Jessica', 'Patricia', 'Linda', 'Deborah', 'Dorothy', 'Betty', 'Helen']"
   ]
  },
  {
   "cell_type": "code",
   "execution_count": 138,
   "id": "9e7cdc2c",
   "metadata": {},
   "outputs": [],
   "source": [
    "# For selecting the names time series from data and reshaping data format to years x names \n",
    "\n",
    "date= np.asarray(names['Year'].unique())\n",
    "\n",
    "ts_reshaped= np.zeros((len(date), len(name_list)))\n",
    "\n",
    "for i in range(ts_reshaped.shape[0]):\n",
    "    temp_y= names.loc[names['Year']== date[i]]\n",
    "    \n",
    "    for j in range(ts_reshaped.shape[1]):\n",
    "        \n",
    "        try:\n",
    "            count= (temp_y.loc[(temp_y['Name']== (name_list[j])) & \n",
    "                               (temp_y['Gender']== ('F'))])\n",
    "\n",
    "            count= np.asarray(count['Count'])[0]\n",
    "        except:\n",
    "            count= 0\n",
    "        \n",
    "        ts_reshaped[i][j]= count"
   ]
  },
  {
   "cell_type": "code",
   "execution_count": 61,
   "id": "07037c17",
   "metadata": {},
   "outputs": [
    {
     "data": {
      "text/html": [
       "<div>\n",
       "<style scoped>\n",
       "    .dataframe tbody tr th:only-of-type {\n",
       "        vertical-align: middle;\n",
       "    }\n",
       "\n",
       "    .dataframe tbody tr th {\n",
       "        vertical-align: top;\n",
       "    }\n",
       "\n",
       "    .dataframe thead th {\n",
       "        text-align: right;\n",
       "    }\n",
       "</style>\n",
       "<table border=\"1\" class=\"dataframe\">\n",
       "  <thead>\n",
       "    <tr style=\"text-align: right;\">\n",
       "      <th></th>\n",
       "      <th>Year</th>\n",
       "      <th>Ashley</th>\n",
       "      <th>Amanda</th>\n",
       "      <th>Jessica</th>\n",
       "      <th>Patricia</th>\n",
       "      <th>Linda</th>\n",
       "      <th>Deborah</th>\n",
       "      <th>Dorothy</th>\n",
       "      <th>Betty</th>\n",
       "      <th>Helen</th>\n",
       "    </tr>\n",
       "  </thead>\n",
       "  <tbody>\n",
       "    <tr>\n",
       "      <th>0</th>\n",
       "      <td>1880</td>\n",
       "      <td>0.0</td>\n",
       "      <td>241.0</td>\n",
       "      <td>7.0</td>\n",
       "      <td>0.0</td>\n",
       "      <td>27.0</td>\n",
       "      <td>12.0</td>\n",
       "      <td>112.0</td>\n",
       "      <td>117.0</td>\n",
       "      <td>636.0</td>\n",
       "    </tr>\n",
       "    <tr>\n",
       "      <th>1</th>\n",
       "      <td>1881</td>\n",
       "      <td>0.0</td>\n",
       "      <td>263.0</td>\n",
       "      <td>7.0</td>\n",
       "      <td>0.0</td>\n",
       "      <td>38.0</td>\n",
       "      <td>14.0</td>\n",
       "      <td>109.0</td>\n",
       "      <td>112.0</td>\n",
       "      <td>612.0</td>\n",
       "    </tr>\n",
       "    <tr>\n",
       "      <th>2</th>\n",
       "      <td>1882</td>\n",
       "      <td>0.0</td>\n",
       "      <td>288.0</td>\n",
       "      <td>8.0</td>\n",
       "      <td>0.0</td>\n",
       "      <td>36.0</td>\n",
       "      <td>15.0</td>\n",
       "      <td>115.0</td>\n",
       "      <td>123.0</td>\n",
       "      <td>838.0</td>\n",
       "    </tr>\n",
       "    <tr>\n",
       "      <th>3</th>\n",
       "      <td>1883</td>\n",
       "      <td>0.0</td>\n",
       "      <td>287.0</td>\n",
       "      <td>6.0</td>\n",
       "      <td>0.0</td>\n",
       "      <td>49.0</td>\n",
       "      <td>16.0</td>\n",
       "      <td>141.0</td>\n",
       "      <td>120.0</td>\n",
       "      <td>862.0</td>\n",
       "    </tr>\n",
       "    <tr>\n",
       "      <th>4</th>\n",
       "      <td>1884</td>\n",
       "      <td>0.0</td>\n",
       "      <td>337.0</td>\n",
       "      <td>14.0</td>\n",
       "      <td>6.0</td>\n",
       "      <td>33.0</td>\n",
       "      <td>13.0</td>\n",
       "      <td>163.0</td>\n",
       "      <td>144.0</td>\n",
       "      <td>986.0</td>\n",
       "    </tr>\n",
       "  </tbody>\n",
       "</table>\n",
       "</div>"
      ],
      "text/plain": [
       "   Year  Ashley  Amanda  Jessica  Patricia  Linda  Deborah  Dorothy  Betty  \\\n",
       "0  1880     0.0   241.0      7.0       0.0   27.0     12.0    112.0  117.0   \n",
       "1  1881     0.0   263.0      7.0       0.0   38.0     14.0    109.0  112.0   \n",
       "2  1882     0.0   288.0      8.0       0.0   36.0     15.0    115.0  123.0   \n",
       "3  1883     0.0   287.0      6.0       0.0   49.0     16.0    141.0  120.0   \n",
       "4  1884     0.0   337.0     14.0       6.0   33.0     13.0    163.0  144.0   \n",
       "\n",
       "   Helen  \n",
       "0  636.0  \n",
       "1  612.0  \n",
       "2  838.0  \n",
       "3  862.0  \n",
       "4  986.0  "
      ]
     },
     "execution_count": 61,
     "metadata": {},
     "output_type": "execute_result"
    }
   ],
   "source": [
    "ts_names= pd.concat([pd.DataFrame(data= date, columns=['Year']), \n",
    "                     pd.DataFrame(data= ts_reshaped, columns= name_list)], axis=1)\n",
    "\n",
    "ts_names.head()"
   ]
  },
  {
   "cell_type": "code",
   "execution_count": 62,
   "id": "3ab4b4ce",
   "metadata": {},
   "outputs": [],
   "source": [
    "y_values= [np.asarray((ts_names.T).iloc[i,0:ts_names.shape[0]], dtype=int) for i in range(1,ts_names.shape[1])]"
   ]
  },
  {
   "cell_type": "code",
   "execution_count": 81,
   "id": "9ef51340",
   "metadata": {},
   "outputs": [],
   "source": [
    "# For curves with gaussian smoothing\n",
    "\n",
    "def gaussian_smooth(x, y, grid, sd):\n",
    "    weights= np.transpose([stats.norm.pdf(grid, m, sd) for m in x])\n",
    "    weights= weights / weights.sum(0)\n",
    "    \n",
    "    return (weights * y).sum(1)"
   ]
  },
  {
   "cell_type": "code",
   "execution_count": 128,
   "id": "a44513ea",
   "metadata": {},
   "outputs": [],
   "source": [
    "PALETTE= list((mcolors.TABLEAU_COLORS).values())\n",
    "DARKG= \"#111111\""
   ]
  },
  {
   "cell_type": "markdown",
   "id": "914670e4",
   "metadata": {},
   "source": [
    "# Stacked graph"
   ]
  },
  {
   "cell_type": "code",
   "execution_count": 139,
   "id": "2a15836c",
   "metadata": {},
   "outputs": [
    {
     "data": {
      "text/plain": [
       "Text(0.52, 0.95, 'US baby names - trends over time')"
      ]
     },
     "execution_count": 139,
     "metadata": {},
     "output_type": "execute_result"
    },
    {
     "data": {
      "image/png": "[encoded data removed]",
      "text/plain": [
       "<Figure size 792x360 with 1 Axes>"
      ]
     },
     "metadata": {
      "needs_background": "light"
     },
     "output_type": "display_data"
    }
   ],
   "source": [
    "fig, ax= plt.subplots(figsize=(11, 5))\n",
    "\n",
    "# Generate a grid with 10k samples between max and min years for smoothing\n",
    "grid= np.linspace(ts_names['Year'].min(), ts_names['Year'].max(), num=10000)\n",
    "values_smoothed= [gaussian_smooth(np.asarray(ts_names['Year']), y, grid, sd=2) for y in y_values]\n",
    "\n",
    "ax.stackplot(grid, values_smoothed, colors=PALETTE)\n",
    "\n",
    "ax.xaxis.set_ticks(np.arange(ts_names['Year'].min(), ts_names['Year'].max(), 10))\n",
    "ax.yaxis.set_visible(False)\n",
    "\n",
    "# Also remove spines\n",
    "ax.spines[\"left\"].set_color(\"none\")\n",
    "#ax.spines[\"bottom\"].set_color(\"none\")\n",
    "ax.spines[\"right\"].set_color(\"none\")\n",
    "ax.spines[\"top\"].set_color(\"none\")\n",
    "\n",
    "# Creates each handle for the legend\n",
    "def get_handle(label, color):\n",
    "    line = Line2D( [0], [0], color=color, label=label, lw=8 )\n",
    "    \n",
    "    return line\n",
    "\n",
    "# Create the handles\n",
    "handles = [get_handle(name_list, color) for name_list, color in zip(name_list, PALETTE[::-1])]\n",
    "\n",
    "legend= fig.legend(\n",
    "    handles=handles,\n",
    "    bbox_to_anchor=[0.29, 0.8], # Legend location.\n",
    "    edgecolor=DARKG,\n",
    "    labelspacing=-0.1,\n",
    "    loc=\"center\", \n",
    "    ncol=3\n",
    ")\n",
    "\n",
    "# Change size and color of legend labels\n",
    "for text in legend.get_texts():\n",
    "    text.set_fontsize(10)   \n",
    "    text.set_color(DARKG)\n",
    "\n",
    "# For a rounded appearence to the frame of the legend\n",
    "legend.get_frame().set_boxstyle(\"round\", rounding_size=0.4, pad=0.2)\n",
    "\n",
    "fig.text(\n",
    "    0.52, 0.95,\n",
    "    'US baby names - trends over time', fontsize=14, fontweight=\"bold\", ha=\"center\"\n",
    ")\n",
    "\n",
    "#plt.savefig('stacked.pdf', pad_inches=0.01, bbox_inches=\"tight\")"
   ]
  },
  {
   "cell_type": "code",
   "execution_count": null,
   "id": "809002c0",
   "metadata": {},
   "outputs": [],
   "source": []
  },
  {
   "cell_type": "code",
   "execution_count": 137,
   "id": "9bd7191f",
   "metadata": {},
   "outputs": [],
   "source": [
    "# This document was partialy inspired on X-Men comics exploration by Yan Holtz\n",
    "# https://python-graph-gallery.com/web-streamchart-with-matplotlib/"
   ]
  }
 ],
 "metadata": {
  "kernelspec": {
   "display_name": "Python 3",
   "language": "python",
   "name": "python3"
  },
  "language_info": {
   "codemirror_mode": {
    "name": "ipython",
    "version": 3
   },
   "file_extension": ".py",
   "mimetype": "text/x-python",
   "name": "python",
   "nbconvert_exporter": "python",
   "pygments_lexer": "ipython3",
   "version": "3.8.8"
  }
 },
 "nbformat": 4,
 "nbformat_minor": 5
}
